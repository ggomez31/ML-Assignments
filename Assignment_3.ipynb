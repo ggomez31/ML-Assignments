{
  "nbformat": 4,
  "nbformat_minor": 0,
  "metadata": {
    "colab": {
      "name": "Assignment 3.ipynb",
      "provenance": [],
      "collapsed_sections": [
        "3QW8AnJ030wP",
        "6hDqLBes4W4p",
        "9Zma0i7SBxdt",
        "1hLKeUYXCrgx",
        "GQifivhZ4e6-",
        "4xek9fRRGmt5"
      ],
      "toc_visible": true,
      "authorship_tag": "ABX9TyNaNJMGE/5SoRg6APeupDgu",
      "include_colab_link": true
    },
    "kernelspec": {
      "display_name": "Python 3",
      "name": "python3"
    }
  },
  "cells": [
    {
      "cell_type": "markdown",
      "metadata": {
        "id": "view-in-github",
        "colab_type": "text"
      },
      "source": [
        "<a href=\"https://colab.research.google.com/github/ggomez31/ML-Assignments/blob/main/Assignment_3.ipynb\" target=\"_parent\"><img src=\"https://colab.research.google.com/assets/colab-badge.svg\" alt=\"Open In Colab\"/></a>"
      ]
    },
    {
      "cell_type": "code",
      "metadata": {
        "id": "Hb0CGt11bR4T"
      },
      "source": [
        "import pandas as pd\n",
        "import seaborn as sns\n",
        "import matplotlib.pyplot as plt\n",
        "import numpy as np\n",
        "from google.colab import files\n",
        "from sklearn.model_selection import train_test_split\n",
        "from sklearn.naive_bayes import GaussianNB, ComplementNB, MultinomialNB, BernoulliNB\n",
        "from sklearn.metrics import roc_auc_score, accuracy_score, f1_score\n",
        "from sklearn.model_selection import GridSearchCV\n",
        "from sklearn.preprocessing import normalize\n",
        "import io"
      ],
      "execution_count": null,
      "outputs": []
    },
    {
      "cell_type": "code",
      "metadata": {
        "id": "vV8HkMef_T92",
        "colab": {
          "resources": {
            "http://localhost:8080/nbextensions/google.colab/files.js": {
              "data": "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",
              "ok": true,
              "headers": [
                [
                  "content-type",
                  "application/javascript"
                ]
              ],
              "status": 200,
              "status_text": ""
            }
          },
          "base_uri": "https://localhost:8080/",
          "height": 106
        },
        "outputId": "c07fddfd-df0b-4fb7-a1da-4a9ac2628ad5"
      },
      "source": [
        "uploaded = files.upload()"
      ],
      "execution_count": null,
      "outputs": [
        {
          "output_type": "display_data",
          "data": {
            "text/html": [
              "\n",
              "     <input type=\"file\" id=\"files-55778229-bc4d-4593-8055-7334b45a865d\" name=\"files[]\" multiple disabled\n",
              "        style=\"border:none\" />\n",
              "     <output id=\"result-55778229-bc4d-4593-8055-7334b45a865d\">\n",
              "      Upload widget is only available when the cell has been executed in the\n",
              "      current browser session. Please rerun this cell to enable.\n",
              "      </output>\n",
              "      <script src=\"/nbextensions/google.colab/files.js\"></script> "
            ],
            "text/plain": [
              "<IPython.core.display.HTML object>"
            ]
          },
          "metadata": {
            "tags": []
          }
        },
        {
          "output_type": "stream",
          "text": [
            "Saving test.csv to test.csv\n",
            "Saving train.csv to train.csv\n"
          ],
          "name": "stdout"
        }
      ]
    },
    {
      "cell_type": "code",
      "metadata": {
        "id": "hwyT_OqOuxsa"
      },
      "source": [
        "trainData = pd.read_csv('train.csv')\n",
        "testData = pd.read_csv('test.csv')\n",
        "pd.set_option('display.max_columns', None)\n",
        "pd.set_option('display.max_rows', None)"
      ],
      "execution_count": null,
      "outputs": []
    },
    {
      "cell_type": "markdown",
      "metadata": {
        "id": "5TWG95CYJfc8"
      },
      "source": [
        "Checking for missing values. There are none."
      ]
    },
    {
      "cell_type": "code",
      "metadata": {
        "id": "VJVTyHGU_oa-",
        "colab": {
          "base_uri": "https://localhost:8080/"
        },
        "outputId": "2e061a01-21ec-4272-cd42-c02f87a2bc1f"
      },
      "source": [
        "trainData.info()"
      ],
      "execution_count": null,
      "outputs": [
        {
          "output_type": "stream",
          "text": [
            "<class 'pandas.core.frame.DataFrame'>\n",
            "RangeIndex: 284 entries, 0 to 283\n",
            "Data columns (total 32 columns):\n",
            " #   Column                   Non-Null Count  Dtype  \n",
            "---  ------                   --------------  -----  \n",
            " 0   id                       284 non-null    int64  \n",
            " 1   radius_mean              284 non-null    float64\n",
            " 2   texture_mean             284 non-null    float64\n",
            " 3   perimeter_mean           284 non-null    float64\n",
            " 4   area_mean                284 non-null    float64\n",
            " 5   smoothness_mean          284 non-null    float64\n",
            " 6   compactness_mean         284 non-null    float64\n",
            " 7   concavity_mean           284 non-null    float64\n",
            " 8   concave points_mean      284 non-null    float64\n",
            " 9   symmetry_mean            284 non-null    float64\n",
            " 10  fractal_dimension_mean   284 non-null    float64\n",
            " 11  radius_se                284 non-null    float64\n",
            " 12  texture_se               284 non-null    float64\n",
            " 13  perimeter_se             284 non-null    float64\n",
            " 14  area_se                  284 non-null    float64\n",
            " 15  smoothness_se            284 non-null    float64\n",
            " 16  compactness_se           284 non-null    float64\n",
            " 17  concavity_se             284 non-null    float64\n",
            " 18  concave points_se        284 non-null    float64\n",
            " 19  symmetry_se              284 non-null    float64\n",
            " 20  fractal_dimension_se     284 non-null    float64\n",
            " 21  radius_worst             284 non-null    float64\n",
            " 22  texture_worst            284 non-null    float64\n",
            " 23  perimeter_worst          284 non-null    float64\n",
            " 24  area_worst               284 non-null    float64\n",
            " 25  smoothness_worst         284 non-null    float64\n",
            " 26  compactness_worst        284 non-null    float64\n",
            " 27  concavity_worst          284 non-null    float64\n",
            " 28  concave points_worst     284 non-null    float64\n",
            " 29  symmetry_worst           284 non-null    float64\n",
            " 30  fractal_dimension_worst  284 non-null    float64\n",
            " 31  diagnosis                284 non-null    int64  \n",
            "dtypes: float64(30), int64(2)\n",
            "memory usage: 71.1 KB\n"
          ],
          "name": "stdout"
        }
      ]
    },
    {
      "cell_type": "code",
      "metadata": {
        "id": "MUjMfpVd_sog",
        "colab": {
          "base_uri": "https://localhost:8080/",
          "height": 334
        },
        "outputId": "0fedc395-148c-4e7c-a567-214b649338ea"
      },
      "source": [
        "trainData.describe()"
      ],
      "execution_count": null,
      "outputs": [
        {
          "output_type": "execute_result",
          "data": {
            "text/html": [
              "<div>\n",
              "<style scoped>\n",
              "    .dataframe tbody tr th:only-of-type {\n",
              "        vertical-align: middle;\n",
              "    }\n",
              "\n",
              "    .dataframe tbody tr th {\n",
              "        vertical-align: top;\n",
              "    }\n",
              "\n",
              "    .dataframe thead th {\n",
              "        text-align: right;\n",
              "    }\n",
              "</style>\n",
              "<table border=\"1\" class=\"dataframe\">\n",
              "  <thead>\n",
              "    <tr style=\"text-align: right;\">\n",
              "      <th></th>\n",
              "      <th>id</th>\n",
              "      <th>radius_mean</th>\n",
              "      <th>texture_mean</th>\n",
              "      <th>perimeter_mean</th>\n",
              "      <th>area_mean</th>\n",
              "      <th>smoothness_mean</th>\n",
              "      <th>compactness_mean</th>\n",
              "      <th>concavity_mean</th>\n",
              "      <th>concave points_mean</th>\n",
              "      <th>symmetry_mean</th>\n",
              "      <th>fractal_dimension_mean</th>\n",
              "      <th>radius_se</th>\n",
              "      <th>texture_se</th>\n",
              "      <th>perimeter_se</th>\n",
              "      <th>area_se</th>\n",
              "      <th>smoothness_se</th>\n",
              "      <th>compactness_se</th>\n",
              "      <th>concavity_se</th>\n",
              "      <th>concave points_se</th>\n",
              "      <th>symmetry_se</th>\n",
              "      <th>fractal_dimension_se</th>\n",
              "      <th>radius_worst</th>\n",
              "      <th>texture_worst</th>\n",
              "      <th>perimeter_worst</th>\n",
              "      <th>area_worst</th>\n",
              "      <th>smoothness_worst</th>\n",
              "      <th>compactness_worst</th>\n",
              "      <th>concavity_worst</th>\n",
              "      <th>concave points_worst</th>\n",
              "      <th>symmetry_worst</th>\n",
              "      <th>fractal_dimension_worst</th>\n",
              "      <th>diagnosis</th>\n",
              "    </tr>\n",
              "  </thead>\n",
              "  <tbody>\n",
              "    <tr>\n",
              "      <th>count</th>\n",
              "      <td>284.000000</td>\n",
              "      <td>284.000000</td>\n",
              "      <td>284.000000</td>\n",
              "      <td>284.00000</td>\n",
              "      <td>284.000000</td>\n",
              "      <td>284.000000</td>\n",
              "      <td>284.000000</td>\n",
              "      <td>284.000000</td>\n",
              "      <td>284.000000</td>\n",
              "      <td>284.000000</td>\n",
              "      <td>284.000000</td>\n",
              "      <td>284.000000</td>\n",
              "      <td>284.000000</td>\n",
              "      <td>284.000000</td>\n",
              "      <td>284.000000</td>\n",
              "      <td>284.000000</td>\n",
              "      <td>284.000000</td>\n",
              "      <td>284.000000</td>\n",
              "      <td>284.000000</td>\n",
              "      <td>284.000000</td>\n",
              "      <td>284.000000</td>\n",
              "      <td>284.000000</td>\n",
              "      <td>284.000000</td>\n",
              "      <td>284.000000</td>\n",
              "      <td>284.000000</td>\n",
              "      <td>284.000000</td>\n",
              "      <td>284.000000</td>\n",
              "      <td>284.000000</td>\n",
              "      <td>284.000000</td>\n",
              "      <td>284.000000</td>\n",
              "      <td>284.000000</td>\n",
              "      <td>284.000000</td>\n",
              "    </tr>\n",
              "    <tr>\n",
              "      <th>mean</th>\n",
              "      <td>141.500000</td>\n",
              "      <td>14.133384</td>\n",
              "      <td>19.354824</td>\n",
              "      <td>91.96331</td>\n",
              "      <td>656.370423</td>\n",
              "      <td>0.095307</td>\n",
              "      <td>0.102288</td>\n",
              "      <td>0.088245</td>\n",
              "      <td>0.047708</td>\n",
              "      <td>0.180214</td>\n",
              "      <td>0.062251</td>\n",
              "      <td>0.395850</td>\n",
              "      <td>1.221463</td>\n",
              "      <td>2.799136</td>\n",
              "      <td>38.974380</td>\n",
              "      <td>0.007036</td>\n",
              "      <td>0.025967</td>\n",
              "      <td>0.033004</td>\n",
              "      <td>0.011738</td>\n",
              "      <td>0.020623</td>\n",
              "      <td>0.003875</td>\n",
              "      <td>16.248229</td>\n",
              "      <td>25.865739</td>\n",
              "      <td>107.215493</td>\n",
              "      <td>880.827817</td>\n",
              "      <td>0.130850</td>\n",
              "      <td>0.252964</td>\n",
              "      <td>0.276384</td>\n",
              "      <td>0.113469</td>\n",
              "      <td>0.288513</td>\n",
              "      <td>0.083050</td>\n",
              "      <td>0.373239</td>\n",
              "    </tr>\n",
              "    <tr>\n",
              "      <th>std</th>\n",
              "      <td>82.127949</td>\n",
              "      <td>3.557272</td>\n",
              "      <td>4.308783</td>\n",
              "      <td>24.44977</td>\n",
              "      <td>353.886842</td>\n",
              "      <td>0.014372</td>\n",
              "      <td>0.050656</td>\n",
              "      <td>0.079657</td>\n",
              "      <td>0.038772</td>\n",
              "      <td>0.026448</td>\n",
              "      <td>0.007089</td>\n",
              "      <td>0.237095</td>\n",
              "      <td>0.534399</td>\n",
              "      <td>1.676412</td>\n",
              "      <td>36.551638</td>\n",
              "      <td>0.003142</td>\n",
              "      <td>0.018662</td>\n",
              "      <td>0.035852</td>\n",
              "      <td>0.006575</td>\n",
              "      <td>0.008063</td>\n",
              "      <td>0.003137</td>\n",
              "      <td>4.883497</td>\n",
              "      <td>6.152410</td>\n",
              "      <td>34.022758</td>\n",
              "      <td>580.281025</td>\n",
              "      <td>0.022626</td>\n",
              "      <td>0.159129</td>\n",
              "      <td>0.217757</td>\n",
              "      <td>0.066945</td>\n",
              "      <td>0.058428</td>\n",
              "      <td>0.018022</td>\n",
              "      <td>0.484519</td>\n",
              "    </tr>\n",
              "    <tr>\n",
              "      <th>min</th>\n",
              "      <td>0.000000</td>\n",
              "      <td>6.981000</td>\n",
              "      <td>9.710000</td>\n",
              "      <td>43.79000</td>\n",
              "      <td>143.500000</td>\n",
              "      <td>0.062510</td>\n",
              "      <td>0.019380</td>\n",
              "      <td>0.000000</td>\n",
              "      <td>0.000000</td>\n",
              "      <td>0.106000</td>\n",
              "      <td>0.049960</td>\n",
              "      <td>0.114400</td>\n",
              "      <td>0.406400</td>\n",
              "      <td>0.771400</td>\n",
              "      <td>6.802000</td>\n",
              "      <td>0.002838</td>\n",
              "      <td>0.002252</td>\n",
              "      <td>0.000000</td>\n",
              "      <td>0.000000</td>\n",
              "      <td>0.010290</td>\n",
              "      <td>0.000895</td>\n",
              "      <td>7.930000</td>\n",
              "      <td>12.020000</td>\n",
              "      <td>50.410000</td>\n",
              "      <td>185.200000</td>\n",
              "      <td>0.081250</td>\n",
              "      <td>0.034320</td>\n",
              "      <td>0.000000</td>\n",
              "      <td>0.000000</td>\n",
              "      <td>0.156600</td>\n",
              "      <td>0.055210</td>\n",
              "      <td>0.000000</td>\n",
              "    </tr>\n",
              "    <tr>\n",
              "      <th>25%</th>\n",
              "      <td>70.750000</td>\n",
              "      <td>11.807500</td>\n",
              "      <td>16.060000</td>\n",
              "      <td>76.09750</td>\n",
              "      <td>428.675000</td>\n",
              "      <td>0.084668</td>\n",
              "      <td>0.062740</td>\n",
              "      <td>0.029640</td>\n",
              "      <td>0.019603</td>\n",
              "      <td>0.161775</td>\n",
              "      <td>0.057068</td>\n",
              "      <td>0.236450</td>\n",
              "      <td>0.856775</td>\n",
              "      <td>1.667000</td>\n",
              "      <td>17.967500</td>\n",
              "      <td>0.005298</td>\n",
              "      <td>0.012828</td>\n",
              "      <td>0.015030</td>\n",
              "      <td>0.007482</td>\n",
              "      <td>0.015017</td>\n",
              "      <td>0.002225</td>\n",
              "      <td>12.977500</td>\n",
              "      <td>21.382500</td>\n",
              "      <td>83.722500</td>\n",
              "      <td>512.450000</td>\n",
              "      <td>0.114300</td>\n",
              "      <td>0.145325</td>\n",
              "      <td>0.118475</td>\n",
              "      <td>0.062563</td>\n",
              "      <td>0.250300</td>\n",
              "      <td>0.071145</td>\n",
              "      <td>0.000000</td>\n",
              "    </tr>\n",
              "    <tr>\n",
              "      <th>50%</th>\n",
              "      <td>141.500000</td>\n",
              "      <td>13.205000</td>\n",
              "      <td>18.945000</td>\n",
              "      <td>85.25000</td>\n",
              "      <td>540.250000</td>\n",
              "      <td>0.094155</td>\n",
              "      <td>0.093435</td>\n",
              "      <td>0.061745</td>\n",
              "      <td>0.033025</td>\n",
              "      <td>0.178300</td>\n",
              "      <td>0.061115</td>\n",
              "      <td>0.327500</td>\n",
              "      <td>1.094000</td>\n",
              "      <td>2.330000</td>\n",
              "      <td>24.950000</td>\n",
              "      <td>0.006302</td>\n",
              "      <td>0.020625</td>\n",
              "      <td>0.026245</td>\n",
              "      <td>0.010850</td>\n",
              "      <td>0.019030</td>\n",
              "      <td>0.003044</td>\n",
              "      <td>14.995000</td>\n",
              "      <td>25.580000</td>\n",
              "      <td>97.665000</td>\n",
              "      <td>683.600000</td>\n",
              "      <td>0.129450</td>\n",
              "      <td>0.211600</td>\n",
              "      <td>0.229800</td>\n",
              "      <td>0.097355</td>\n",
              "      <td>0.280950</td>\n",
              "      <td>0.078650</td>\n",
              "      <td>0.000000</td>\n",
              "    </tr>\n",
              "    <tr>\n",
              "      <th>75%</th>\n",
              "      <td>212.250000</td>\n",
              "      <td>16.132500</td>\n",
              "      <td>21.825000</td>\n",
              "      <td>106.45000</td>\n",
              "      <td>799.100000</td>\n",
              "      <td>0.104825</td>\n",
              "      <td>0.127975</td>\n",
              "      <td>0.127700</td>\n",
              "      <td>0.070468</td>\n",
              "      <td>0.194425</td>\n",
              "      <td>0.065410</td>\n",
              "      <td>0.476050</td>\n",
              "      <td>1.478500</td>\n",
              "      <td>3.274000</td>\n",
              "      <td>44.467500</td>\n",
              "      <td>0.007989</td>\n",
              "      <td>0.033247</td>\n",
              "      <td>0.040697</td>\n",
              "      <td>0.014672</td>\n",
              "      <td>0.024202</td>\n",
              "      <td>0.004328</td>\n",
              "      <td>18.247500</td>\n",
              "      <td>30.127500</td>\n",
              "      <td>124.475000</td>\n",
              "      <td>1031.250000</td>\n",
              "      <td>0.144550</td>\n",
              "      <td>0.321725</td>\n",
              "      <td>0.386550</td>\n",
              "      <td>0.162925</td>\n",
              "      <td>0.311575</td>\n",
              "      <td>0.091482</td>\n",
              "      <td>1.000000</td>\n",
              "    </tr>\n",
              "    <tr>\n",
              "      <th>max</th>\n",
              "      <td>283.000000</td>\n",
              "      <td>27.220000</td>\n",
              "      <td>32.470000</td>\n",
              "      <td>182.10000</td>\n",
              "      <td>2250.000000</td>\n",
              "      <td>0.163400</td>\n",
              "      <td>0.286700</td>\n",
              "      <td>0.426800</td>\n",
              "      <td>0.201200</td>\n",
              "      <td>0.274300</td>\n",
              "      <td>0.095020</td>\n",
              "      <td>1.509000</td>\n",
              "      <td>3.896000</td>\n",
              "      <td>9.807000</td>\n",
              "      <td>233.000000</td>\n",
              "      <td>0.031130</td>\n",
              "      <td>0.106400</td>\n",
              "      <td>0.396000</td>\n",
              "      <td>0.052790</td>\n",
              "      <td>0.061460</td>\n",
              "      <td>0.029840</td>\n",
              "      <td>33.130000</td>\n",
              "      <td>47.160000</td>\n",
              "      <td>229.300000</td>\n",
              "      <td>3432.000000</td>\n",
              "      <td>0.218400</td>\n",
              "      <td>1.058000</td>\n",
              "      <td>1.252000</td>\n",
              "      <td>0.286700</td>\n",
              "      <td>0.577400</td>\n",
              "      <td>0.207500</td>\n",
              "      <td>1.000000</td>\n",
              "    </tr>\n",
              "  </tbody>\n",
              "</table>\n",
              "</div>"
            ],
            "text/plain": [
              "               id  radius_mean  texture_mean  perimeter_mean    area_mean  \\\n",
              "count  284.000000   284.000000    284.000000       284.00000   284.000000   \n",
              "mean   141.500000    14.133384     19.354824        91.96331   656.370423   \n",
              "std     82.127949     3.557272      4.308783        24.44977   353.886842   \n",
              "min      0.000000     6.981000      9.710000        43.79000   143.500000   \n",
              "25%     70.750000    11.807500     16.060000        76.09750   428.675000   \n",
              "50%    141.500000    13.205000     18.945000        85.25000   540.250000   \n",
              "75%    212.250000    16.132500     21.825000       106.45000   799.100000   \n",
              "max    283.000000    27.220000     32.470000       182.10000  2250.000000   \n",
              "\n",
              "       smoothness_mean  compactness_mean  concavity_mean  concave points_mean  \\\n",
              "count       284.000000        284.000000      284.000000           284.000000   \n",
              "mean          0.095307          0.102288        0.088245             0.047708   \n",
              "std           0.014372          0.050656        0.079657             0.038772   \n",
              "min           0.062510          0.019380        0.000000             0.000000   \n",
              "25%           0.084668          0.062740        0.029640             0.019603   \n",
              "50%           0.094155          0.093435        0.061745             0.033025   \n",
              "75%           0.104825          0.127975        0.127700             0.070468   \n",
              "max           0.163400          0.286700        0.426800             0.201200   \n",
              "\n",
              "       symmetry_mean  fractal_dimension_mean   radius_se  texture_se  \\\n",
              "count     284.000000              284.000000  284.000000  284.000000   \n",
              "mean        0.180214                0.062251    0.395850    1.221463   \n",
              "std         0.026448                0.007089    0.237095    0.534399   \n",
              "min         0.106000                0.049960    0.114400    0.406400   \n",
              "25%         0.161775                0.057068    0.236450    0.856775   \n",
              "50%         0.178300                0.061115    0.327500    1.094000   \n",
              "75%         0.194425                0.065410    0.476050    1.478500   \n",
              "max         0.274300                0.095020    1.509000    3.896000   \n",
              "\n",
              "       perimeter_se     area_se  smoothness_se  compactness_se  concavity_se  \\\n",
              "count    284.000000  284.000000     284.000000      284.000000    284.000000   \n",
              "mean       2.799136   38.974380       0.007036        0.025967      0.033004   \n",
              "std        1.676412   36.551638       0.003142        0.018662      0.035852   \n",
              "min        0.771400    6.802000       0.002838        0.002252      0.000000   \n",
              "25%        1.667000   17.967500       0.005298        0.012828      0.015030   \n",
              "50%        2.330000   24.950000       0.006302        0.020625      0.026245   \n",
              "75%        3.274000   44.467500       0.007989        0.033247      0.040697   \n",
              "max        9.807000  233.000000       0.031130        0.106400      0.396000   \n",
              "\n",
              "       concave points_se  symmetry_se  fractal_dimension_se  radius_worst  \\\n",
              "count         284.000000   284.000000            284.000000    284.000000   \n",
              "mean            0.011738     0.020623              0.003875     16.248229   \n",
              "std             0.006575     0.008063              0.003137      4.883497   \n",
              "min             0.000000     0.010290              0.000895      7.930000   \n",
              "25%             0.007482     0.015017              0.002225     12.977500   \n",
              "50%             0.010850     0.019030              0.003044     14.995000   \n",
              "75%             0.014672     0.024202              0.004328     18.247500   \n",
              "max             0.052790     0.061460              0.029840     33.130000   \n",
              "\n",
              "       texture_worst  perimeter_worst   area_worst  smoothness_worst  \\\n",
              "count     284.000000       284.000000   284.000000        284.000000   \n",
              "mean       25.865739       107.215493   880.827817          0.130850   \n",
              "std         6.152410        34.022758   580.281025          0.022626   \n",
              "min        12.020000        50.410000   185.200000          0.081250   \n",
              "25%        21.382500        83.722500   512.450000          0.114300   \n",
              "50%        25.580000        97.665000   683.600000          0.129450   \n",
              "75%        30.127500       124.475000  1031.250000          0.144550   \n",
              "max        47.160000       229.300000  3432.000000          0.218400   \n",
              "\n",
              "       compactness_worst  concavity_worst  concave points_worst  \\\n",
              "count         284.000000       284.000000            284.000000   \n",
              "mean            0.252964         0.276384              0.113469   \n",
              "std             0.159129         0.217757              0.066945   \n",
              "min             0.034320         0.000000              0.000000   \n",
              "25%             0.145325         0.118475              0.062563   \n",
              "50%             0.211600         0.229800              0.097355   \n",
              "75%             0.321725         0.386550              0.162925   \n",
              "max             1.058000         1.252000              0.286700   \n",
              "\n",
              "       symmetry_worst  fractal_dimension_worst   diagnosis  \n",
              "count      284.000000               284.000000  284.000000  \n",
              "mean         0.288513                 0.083050    0.373239  \n",
              "std          0.058428                 0.018022    0.484519  \n",
              "min          0.156600                 0.055210    0.000000  \n",
              "25%          0.250300                 0.071145    0.000000  \n",
              "50%          0.280950                 0.078650    0.000000  \n",
              "75%          0.311575                 0.091482    1.000000  \n",
              "max          0.577400                 0.207500    1.000000  "
            ]
          },
          "metadata": {
            "tags": []
          },
          "execution_count": 5
        }
      ]
    },
    {
      "cell_type": "code",
      "metadata": {
        "id": "ITNzz4_MGGOo",
        "colab": {
          "base_uri": "https://localhost:8080/",
          "height": 350
        },
        "outputId": "69d4f446-61d6-4e6a-a2bf-5a3410f9c125"
      },
      "source": [
        "sns.countplot(trainData.diagnosis)"
      ],
      "execution_count": null,
      "outputs": [
        {
          "output_type": "stream",
          "text": [
            "/usr/local/lib/python3.7/dist-packages/seaborn/_decorators.py:43: FutureWarning: Pass the following variable as a keyword arg: x. From version 0.12, the only valid positional argument will be `data`, and passing other arguments without an explicit keyword will result in an error or misinterpretation.\n",
            "  FutureWarning\n"
          ],
          "name": "stderr"
        },
        {
          "output_type": "execute_result",
          "data": {
            "text/plain": [
              "<matplotlib.axes._subplots.AxesSubplot at 0x7f15f3e39d90>"
            ]
          },
          "metadata": {
            "tags": []
          },
          "execution_count": 6
        },
        {
          "output_type": "display_data",
          "data": {
            "image/png": "[encoded data removed]",
            "text/plain": [
              "<Figure size 432x288 with 1 Axes>"
            ]
          },
          "metadata": {
            "tags": [],
            "needs_background": "light"
          }
        }
      ]
    },
    {
      "cell_type": "markdown",
      "metadata": {
        "id": "_oBdrfa7ulPn"
      },
      "source": [
        "Viewing Boxplot to visualize any outliers."
      ]
    },
    {
      "cell_type": "code",
      "metadata": {
        "colab": {
          "base_uri": "https://localhost:8080/",
          "height": 391
        },
        "id": "jEUKCOkmGSJp",
        "outputId": "178645c9-b246-40c2-cc9a-ce8b072ffbef"
      },
      "source": [
        "trainData.boxplot(figsize=(60,15))\n",
        "plt.show()"
      ],
      "execution_count": null,
      "outputs": [
        {
          "output_type": "display_data",
          "data": {
            "image/png": "[encoded data removed]",
            "text/plain": [
              "<Figure size 4320x1080 with 1 Axes>"
            ]
          },
          "metadata": {
            "tags": [],
            "needs_background": "light"
          }
        }
      ]
    },
    {
      "cell_type": "markdown",
      "metadata": {
        "id": "dG5QS1TJJxFp"
      },
      "source": [
        "Viewing total number of Outliers in each column. \"True\" means the presence of an outlier."
      ]
    },
    {
      "cell_type": "code",
      "metadata": {
        "id": "QjmvTRqiiThc"
      },
      "source": [
        "def getOutliers(trainData):  \n",
        "    Q1 = trainData.quantile(0.15)\n",
        "    Q3 = trainData.quantile(0.85)\n",
        "    IQR = Q3 - Q1\n",
        "    upper = Q3 + (1.5 * IQR)\n",
        "    lower = Q1 - (1.5 * IQR)\n",
        "    res = ((trainData < (lower)) | (trainData > (upper)))\n",
        "    for i in range(res.shape[1]):\n",
        "      print(res.iloc[:,i].value_counts())"
      ],
      "execution_count": null,
      "outputs": []
    },
    {
      "cell_type": "code",
      "metadata": {
        "colab": {
          "base_uri": "https://localhost:8080/"
        },
        "id": "f0-4SrBWicGO",
        "outputId": "443e5dc9-a129-47d2-dba3-eec997f5e5e0"
      },
      "source": [
        "getOutliers(trainData)"
      ],
      "execution_count": null,
      "outputs": [
        {
          "output_type": "stream",
          "text": [
            "False    284\n",
            "Name: id, dtype: int64\n",
            "False    284\n",
            "Name: radius_mean, dtype: int64\n",
            "False    284\n",
            "Name: texture_mean, dtype: int64\n",
            "False    284\n",
            "Name: perimeter_mean, dtype: int64\n",
            "False    283\n",
            "True       1\n",
            "Name: area_mean, dtype: int64\n",
            "False    283\n",
            "True       1\n",
            "Name: smoothness_mean, dtype: int64\n",
            "False    284\n",
            "Name: compactness_mean, dtype: int64\n",
            "False    282\n",
            "True       2\n",
            "Name: concavity_mean, dtype: int64\n",
            "False    284\n",
            "Name: concave points_mean, dtype: int64\n",
            "False    284\n",
            "Name: symmetry_mean, dtype: int64\n",
            "False    281\n",
            "True       3\n",
            "Name: fractal_dimension_mean, dtype: int64\n",
            "False    280\n",
            "True       4\n",
            "Name: radius_se, dtype: int64\n",
            "False    281\n",
            "True       3\n",
            "Name: texture_se, dtype: int64\n",
            "False    279\n",
            "True       5\n",
            "Name: perimeter_se, dtype: int64\n",
            "False    275\n",
            "True       9\n",
            "Name: area_se, dtype: int64\n",
            "False    280\n",
            "True       4\n",
            "Name: smoothness_se, dtype: int64\n",
            "False    276\n",
            "True       8\n",
            "Name: compactness_se, dtype: int64\n",
            "False    278\n",
            "True       6\n",
            "Name: concavity_se, dtype: int64\n",
            "False    280\n",
            "True       4\n",
            "Name: concave points_se, dtype: int64\n",
            "False    280\n",
            "True       4\n",
            "Name: symmetry_se, dtype: int64\n",
            "False    277\n",
            "True       7\n",
            "Name: fractal_dimension_se, dtype: int64\n",
            "False    284\n",
            "Name: radius_worst, dtype: int64\n",
            "False    284\n",
            "Name: texture_worst, dtype: int64\n",
            "False    284\n",
            "Name: perimeter_worst, dtype: int64\n",
            "False    280\n",
            "True       4\n",
            "Name: area_worst, dtype: int64\n",
            "False    284\n",
            "Name: smoothness_worst, dtype: int64\n",
            "False    281\n",
            "True       3\n",
            "Name: compactness_worst, dtype: int64\n",
            "False    282\n",
            "True       2\n",
            "Name: concavity_worst, dtype: int64\n",
            "False    284\n",
            "Name: concave points_worst, dtype: int64\n",
            "False    280\n",
            "True       4\n",
            "Name: symmetry_worst, dtype: int64\n",
            "False    283\n",
            "True       1\n",
            "Name: fractal_dimension_worst, dtype: int64\n",
            "False    284\n",
            "Name: diagnosis, dtype: int64\n"
          ],
          "name": "stdout"
        }
      ]
    },
    {
      "cell_type": "markdown",
      "metadata": {
        "id": "MmqEnv4wJ8Py"
      },
      "source": [
        "To get my model past the benchmark, I decided to remove outliers using the IQR method. I decided to use 85% and 15% quantiles due to the 75% and 25% quantiles removing too many observations and not improving my model's performance scores."
      ]
    },
    {
      "cell_type": "code",
      "metadata": {
        "id": "hOLlZkZlvXKZ"
      },
      "source": [
        "def removeOutliers(X_train, y_train):\n",
        "    X_train['diagnosis'] = y_train\n",
        "\n",
        "    Q1 = X_train.quantile(0.15)\n",
        "    Q3 = X_train.quantile(0.85)\n",
        "    IQR = Q3 - Q1\n",
        "    upper = Q3 + (1.5 * IQR)\n",
        "    lower = Q1 - (1.5 * IQR)\n",
        "    X_train = X_train[~((X_train < (lower)) | (X_train > (upper))).any(axis=1)]\n",
        "\n",
        "    y_train = X_train['diagnosis']\n",
        "    X_train = X_train.drop(X_train.columns[[30]], axis=1)\n",
        "    return X_train, y_train"
      ],
      "execution_count": null,
      "outputs": []
    },
    {
      "cell_type": "markdown",
      "metadata": {
        "id": "UHdykjgx7DMq"
      },
      "source": [
        "I deemed normalization or standardization of the data not necessary for Naive Bayes Models since they do not affect the outcome of the models."
      ]
    },
    {
      "cell_type": "code",
      "metadata": {
        "id": "cIBepdYhH76x"
      },
      "source": [
        "X_train, X_test, y_train, y_test = train_test_split(trainData.drop(trainData.columns[[0,31]], axis=1), trainData.diagnosis, stratify=trainData.diagnosis, test_size=0.1)"
      ],
      "execution_count": null,
      "outputs": []
    },
    {
      "cell_type": "code",
      "metadata": {
        "id": "fUQpaNjt65m-"
      },
      "source": [
        "X_train, y_train = removeOutliers(X_train, y_train)"
      ],
      "execution_count": null,
      "outputs": []
    },
    {
      "cell_type": "markdown",
      "metadata": {
        "id": "3QW8AnJ030wP"
      },
      "source": [
        "# ComplementNB Basic Model"
      ]
    },
    {
      "cell_type": "code",
      "metadata": {
        "colab": {
          "base_uri": "https://localhost:8080/"
        },
        "id": "8oiNjpG12qUu",
        "outputId": "6c2d2549-9f91-49d0-8915-f44685d230e8"
      },
      "source": [
        "CNB = ComplementNB()\n",
        "CNB.fit(X_train, y_train)"
      ],
      "execution_count": null,
      "outputs": [
        {
          "output_type": "execute_result",
          "data": {
            "text/plain": [
              "ComplementNB(alpha=1.0, class_prior=None, fit_prior=True, norm=False)"
            ]
          },
          "metadata": {
            "tags": []
          },
          "execution_count": 235
        }
      ]
    },
    {
      "cell_type": "code",
      "metadata": {
        "colab": {
          "base_uri": "https://localhost:8080/"
        },
        "id": "QkwRbmsZ3CD8",
        "outputId": "2aa88491-1099-49a9-bc21-0f68f2a0035c"
      },
      "source": [
        "y_pred = CNB.predict(X_train)\n",
        "y_pred_proba = CNB.predict_proba(X_train)[:,1]\n",
        "\n",
        "print(\"CNB Train ROC AUC Score: {:.10f}\".format(roc_auc_score(y_train, y_pred_proba)))\n",
        "print(\"CNB Train Accuracy Score: {:.10f}\".format(accuracy_score(y_train, y_pred)))\n",
        "print(\"CNB Train F1 Score: {:.10f}\".format(f1_score(y_train, y_pred)))"
      ],
      "execution_count": null,
      "outputs": [
        {
          "output_type": "stream",
          "text": [
            "CNB Train ROC AUC Score: 0.9388239591\n",
            "CNB Train Accuracy Score: 0.8648648649\n",
            "CNB Train F1 Score: 0.7794117647\n"
          ],
          "name": "stdout"
        }
      ]
    },
    {
      "cell_type": "code",
      "metadata": {
        "colab": {
          "base_uri": "https://localhost:8080/"
        },
        "id": "_igzUkZg3IyK",
        "outputId": "774882df-9c3e-46ff-90df-f4b2e867d258"
      },
      "source": [
        "y_pred = CNB.predict(X_test)\n",
        "y_pred_proba = CNB.predict_proba(X_test)[:,1]\n",
        "\n",
        "print(\"CNB Test ROC AUC Score: {:.10f}\".format(roc_auc_score(y_test, y_pred_proba)))\n",
        "print(\"CNB Test Accuracy Score: {:.10f}\".format(accuracy_score(y_test, y_pred)))\n",
        "print(\"CNB Test F1 Score: {:.10f}\".format(f1_score(y_test, y_pred)))"
      ],
      "execution_count": null,
      "outputs": [
        {
          "output_type": "stream",
          "text": [
            "CNB Test ROC AUC Score: 0.8686868687\n",
            "CNB Test Accuracy Score: 0.8965517241\n",
            "CNB Test F1 Score: 0.8421052632\n"
          ],
          "name": "stdout"
        }
      ]
    },
    {
      "cell_type": "markdown",
      "metadata": {
        "id": "6hDqLBes4W4p"
      },
      "source": [
        "# ComplementNB Basic Model Distribution"
      ]
    },
    {
      "cell_type": "code",
      "metadata": {
        "id": "Eu27nRDM4Fre"
      },
      "source": [
        "train_roc_auc = []\n",
        "train_acc = []\n",
        "train_f1 = []\n",
        "\n",
        "test_roc_auc = []\n",
        "test_acc = []\n",
        "test_f1 = []\n",
        "\n",
        "for i in range(200):\n",
        "  X_train_loop, X_test_loop, y_train_loop, y_test_loop = train_test_split(trainData.drop(trainData.columns[[0,31]], axis=1), trainData.diagnosis, stratify=trainData.diagnosis, test_size=0.15)\n",
        "\n",
        "  CNB = ComplementNB()\n",
        "  CNB.fit(X_train_loop, y_train_loop)\n",
        "\n",
        "  y_pred = CNB.predict(X_train_loop)\n",
        "  y_pred_proba = CNB.predict_proba(X_train_loop)[:,1]\n",
        "\n",
        "  train_roc_auc.append(roc_auc_score(y_train_loop, y_pred_proba))\n",
        "  train_acc.append(accuracy_score(y_train_loop, y_pred))\n",
        "  train_f1.append(f1_score(y_train_loop, y_pred))\n",
        "\n",
        "  y_pred = CNB.predict(X_test_loop)\n",
        "  y_pred_proba = CNB.predict_proba(X_test_loop)[:,1]\n",
        "\n",
        "  test_roc_auc.append(roc_auc_score(y_test_loop, y_pred_proba))\n",
        "  test_acc.append(accuracy_score(y_test_loop, y_pred))\n",
        "  test_f1.append(f1_score(y_test_loop, y_pred))"
      ],
      "execution_count": null,
      "outputs": []
    },
    {
      "cell_type": "code",
      "metadata": {
        "id": "UR0PqaRn4VX4",
        "colab": {
          "base_uri": "https://localhost:8080/"
        },
        "outputId": "571276d1-b8ee-495d-b4d9-bdb399423e80"
      },
      "source": [
        "f, axs = plt.subplots(2, 3, figsize=(15,9))\n",
        "axs[0,0].set_title(\"Train ROC\")\n",
        "axs[0,1].set_title(\"Train Accuracy\")\n",
        "axs[0,2].set_title(\"Train F1\")\n",
        "axs[1,0].set_title(\"Test ROC\")\n",
        "axs[1,1].set_title(\"Test Accuracy\")\n",
        "axs[1,2].set_title(\"Test F1\")\n",
        "sns.histplot(train_roc_auc, ax=axs[0,0]);\n",
        "sns.histplot(train_acc, ax=axs[0,1]);\n",
        "sns.histplot(train_f1, ax=axs[0,2]);\n",
        "sns.histplot(test_roc_auc, ax=axs[1,0]);\n",
        "sns.histplot(test_acc, ax=axs[1,1]);\n",
        "sns.histplot(test_f1, ax=axs[1,2]);\n",
        "f.tight_layout()"
      ],
      "execution_count": null,
      "outputs": [
        {
          "output_type": "display_data",
          "data": {
            "image/png": "[encoded data removed]",
            "text/plain": [
              "<Figure size 1080x648 with 6 Axes>"
            ]
          },
          "metadata": {
            "tags": [],
            "needs_background": "light"
          }
        }
      ]
    },
    {
      "cell_type": "markdown",
      "metadata": {
        "id": "GQifivhZ4e6-"
      },
      "source": [
        "# GaussianNB Basic Model"
      ]
    },
    {
      "cell_type": "code",
      "metadata": {
        "id": "mrc1B7NnJRRE",
        "colab": {
          "base_uri": "https://localhost:8080/"
        },
        "outputId": "11c1039a-b288-4d47-c9a0-8c40eee20f5d"
      },
      "source": [
        "GNB_basic = GaussianNB()\n",
        "GNB_basic.fit(X_train, y_train)"
      ],
      "execution_count": null,
      "outputs": [
        {
          "output_type": "execute_result",
          "data": {
            "text/plain": [
              "GaussianNB(priors=None, var_smoothing=1e-09)"
            ]
          },
          "metadata": {
            "tags": []
          },
          "execution_count": 245
        }
      ]
    },
    {
      "cell_type": "code",
      "metadata": {
        "id": "zyRuUCuGhxAc",
        "colab": {
          "base_uri": "https://localhost:8080/"
        },
        "outputId": "634fd265-859d-4421-aeb8-16c1e67d7ee3"
      },
      "source": [
        "y_pred = GNB_basic.predict(X_train)\n",
        "y_pred_proba = GNB_basic.predict_proba(X_train)[:,1]\n",
        "\n",
        "print(\"GNB Train ROC AUC Score: {:.10f}\".format(roc_auc_score(y_train, y_pred_proba)))\n",
        "print(\"GNB Train Accuracy Score: {:.10f}\".format(accuracy_score(y_train, y_pred)))\n",
        "print(\"GNB Train F1 Score: {:.10f}\".format(f1_score(y_train, y_pred)))"
      ],
      "execution_count": null,
      "outputs": [
        {
          "output_type": "stream",
          "text": [
            "GNB Train ROC AUC Score: 0.9879474069\n",
            "GNB Train Accuracy Score: 0.9369369369\n",
            "GNB Train F1 Score: 0.9054054054\n"
          ],
          "name": "stdout"
        }
      ]
    },
    {
      "cell_type": "code",
      "metadata": {
        "id": "4wnZemlYTfi1",
        "colab": {
          "base_uri": "https://localhost:8080/"
        },
        "outputId": "6075dd7f-a827-4deb-f893-5c23d2c28305"
      },
      "source": [
        "y_pred = GNB_basic.predict(X_test)\n",
        "y_pred_proba = GNB_basic.predict_proba(X_test)[:,1]\n",
        "\n",
        "print(\"GNB Test ROC AUC Score: {:.10f}\".format(roc_auc_score(y_test, y_pred_proba)))\n",
        "print(\"GNB Test Accuracy Score: {:.10f}\".format(accuracy_score(y_test, y_pred)))\n",
        "print(\"GNB Test F1 Score: {:.10f}\".format(f1_score(y_test, y_pred)))"
      ],
      "execution_count": null,
      "outputs": [
        {
          "output_type": "stream",
          "text": [
            "GNB Test ROC AUC Score: 0.9797979798\n",
            "GNB Test Accuracy Score: 0.9655172414\n",
            "GNB Test F1 Score: 0.9523809524\n"
          ],
          "name": "stdout"
        }
      ]
    },
    {
      "cell_type": "markdown",
      "metadata": {
        "id": "6Tct8DFM4rO2"
      },
      "source": [
        "# GaussianNB Basic Model Distribution"
      ]
    },
    {
      "cell_type": "code",
      "metadata": {
        "id": "0UdB5kHjX8T1"
      },
      "source": [
        "train_roc_auc = []\n",
        "train_acc = []\n",
        "train_f1 = []\n",
        "\n",
        "test_roc_auc = []\n",
        "test_acc = []\n",
        "test_f1 = []\n",
        "\n",
        "for i in range(200):\n",
        "  X_train_loop, X_test_loop, y_train_loop, y_test_loop = train_test_split(trainData.drop(trainData.columns[[0,31]], axis=1), trainData.diagnosis, stratify=trainData.diagnosis, test_size=0.1)\n",
        "  X_train_loop, y_train_loop = removeOutliers(X_train_loop, y_train_loop)\n",
        "\n",
        "  GNB = GaussianNB()\n",
        "  GNB.fit(X_train_loop, y_train_loop)\n",
        "\n",
        "  y_pred = GNB.predict(X_train_loop)\n",
        "  y_pred_proba = GNB.predict_proba(X_train_loop)[:,1]\n",
        "\n",
        "  train_roc_auc.append(roc_auc_score(y_train_loop, y_pred_proba))\n",
        "  train_acc.append(accuracy_score(y_train_loop, y_pred))\n",
        "  train_f1.append(f1_score(y_train_loop, y_pred))\n",
        "\n",
        "  y_pred = GNB.predict(X_test_loop)\n",
        "  y_pred_proba = GNB.predict_proba(X_test_loop)[:,1]\n",
        "\n",
        "  test_roc_auc.append(roc_auc_score(y_test_loop, y_pred_proba))\n",
        "  test_acc.append(accuracy_score(y_test_loop, y_pred))\n",
        "  test_f1.append(f1_score(y_test_loop, y_pred))\n"
      ],
      "execution_count": null,
      "outputs": []
    },
    {
      "cell_type": "code",
      "metadata": {
        "id": "rfyYqL4ffAo6",
        "colab": {
          "base_uri": "https://localhost:8080/",
          "height": 657
        },
        "outputId": "75c388cf-1eb3-4dda-da65-1052eb706c8c"
      },
      "source": [
        "f, axs = plt.subplots(2, 3, figsize=(15,9))\n",
        "axs[0,0].set_title(\"Train ROC\")\n",
        "axs[0,1].set_title(\"Train Accuracy\")\n",
        "axs[0,2].set_title(\"Train F1\")\n",
        "axs[1,0].set_title(\"Test ROC\")\n",
        "axs[1,1].set_title(\"Test Accuracy\")\n",
        "axs[1,2].set_title(\"Test F1\")\n",
        "sns.histplot(train_roc_auc, ax=axs[0,0]);\n",
        "sns.histplot(train_acc, ax=axs[0,1]);\n",
        "sns.histplot(train_f1, ax=axs[0,2]);\n",
        "sns.histplot(test_roc_auc, ax=axs[1,0]);\n",
        "sns.histplot(test_acc, ax=axs[1,1]);\n",
        "sns.histplot(test_f1, ax=axs[1,2]);\n",
        "f.tight_layout()"
      ],
      "execution_count": null,
      "outputs": [
        {
          "output_type": "display_data",
          "data": {
            "image/png": "[encoded data removed]",
            "text/plain": [
              "<Figure size 1080x648 with 6 Axes>"
            ]
          },
          "metadata": {
            "tags": [],
            "needs_background": "light"
          }
        }
      ]
    },
    {
      "cell_type": "markdown",
      "metadata": {
        "id": "We004x-C8-8x"
      },
      "source": [
        "# GaussianNB Best Model"
      ]
    },
    {
      "cell_type": "code",
      "metadata": {
        "colab": {
          "base_uri": "https://localhost:8080/"
        },
        "id": "SEsPjktLquPM",
        "outputId": "567e9100-8b07-4b00-abc2-067a8793784e"
      },
      "source": [
        "cv = StratifiedKFold(n_splits=10)\n",
        "smoothing = {'var_smoothing':np.logspace(-8,-9, num=800)}\n",
        "GNB_best = GridSearchCV(GaussianNB(), param_grid=smoothing, n_jobs=-1, cv=cv, scoring='f1')\n",
        "GNB_best.fit(X_train, y_train)"
      ],
      "execution_count": null,
      "outputs": [
        {
          "output_type": "execute_result",
          "data": {
            "text/plain": [
              "GridSearchCV(cv=StratifiedKFold(n_splits=10, random_state=None, shuffle=False),\n",
              "             error_score=nan,\n",
              "             estimator=GaussianNB(priors=None, var_smoothing=1e-09),\n",
              "             iid='deprecated', n_jobs=-1,\n",
              "             param_grid={'var_smoothing': array([1.00000000e-08, 9.95396231e-09, 9.90813657e-09, 9.86252179e-09,\n",
              "       9.81711702e-09, 9.77192128e-09, 9.72693362e-09, 9.68215306e-09,\n",
              "       9.63757866e-09, 9.5932...\n",
              "       1.09163173e-09, 1.08660611e-09, 1.08160363e-09, 1.07662418e-09,\n",
              "       1.07166765e-09, 1.06673394e-09, 1.06182294e-09, 1.05693455e-09,\n",
              "       1.05206867e-09, 1.04722519e-09, 1.04240401e-09, 1.03760502e-09,\n",
              "       1.03282813e-09, 1.02807322e-09, 1.02334021e-09, 1.01862899e-09,\n",
              "       1.01393946e-09, 1.00927151e-09, 1.00462506e-09, 1.00000000e-09])},\n",
              "             pre_dispatch='2*n_jobs', refit=True, return_train_score=False,\n",
              "             scoring='f1', verbose=0)"
            ]
          },
          "metadata": {
            "tags": []
          },
          "execution_count": 230
        }
      ]
    },
    {
      "cell_type": "code",
      "metadata": {
        "colab": {
          "base_uri": "https://localhost:8080/"
        },
        "id": "v4MDg-g6pYMt",
        "outputId": "9ed704c6-2f15-440b-eca3-5ab2b2837b25"
      },
      "source": [
        "GNB_best.best_estimator_"
      ],
      "execution_count": null,
      "outputs": [
        {
          "output_type": "execute_result",
          "data": {
            "text/plain": [
              "GaussianNB(priors=None, var_smoothing=4.89078709413959e-09)"
            ]
          },
          "metadata": {
            "tags": []
          },
          "execution_count": 231
        }
      ]
    },
    {
      "cell_type": "code",
      "metadata": {
        "colab": {
          "base_uri": "https://localhost:8080/"
        },
        "id": "lubOoXjZrfTa",
        "outputId": "095b8adc-d46d-4a60-b661-1333cf2ca902"
      },
      "source": [
        "GNB_best.best_score_"
      ],
      "execution_count": null,
      "outputs": [
        {
          "output_type": "execute_result",
          "data": {
            "text/plain": [
              "0.914606047547224"
            ]
          },
          "metadata": {
            "tags": []
          },
          "execution_count": 232
        }
      ]
    },
    {
      "cell_type": "code",
      "metadata": {
        "colab": {
          "base_uri": "https://localhost:8080/"
        },
        "id": "XzhE5hqVPi_4",
        "outputId": "95f7dc1d-bcb9-43df-bf8d-1adb22bf8e73"
      },
      "source": [
        "y_pred = GNB_best.predict(X_train)\n",
        "y_pred_proba = GNB_best.predict_proba(X_train)[:,1]\n",
        "\n",
        "print(\"GNB Train ROC AUC Score: {:.10f}\".format(roc_auc_score(y_train, y_pred_proba)))\n",
        "print(\"GNB Train Accuracy Score: {:.10f}\".format(accuracy_score(y_train, y_pred)))\n",
        "print(\"GNB Train F1 Score: {:.10f}\".format(f1_score(y_train, y_pred)))"
      ],
      "execution_count": null,
      "outputs": [
        {
          "output_type": "stream",
          "text": [
            "GNB Train ROC AUC Score: 0.9870343316\n",
            "GNB Train Accuracy Score: 0.9459459459\n",
            "GNB Train F1 Score: 0.9189189189\n"
          ],
          "name": "stdout"
        }
      ]
    },
    {
      "cell_type": "code",
      "metadata": {
        "colab": {
          "base_uri": "https://localhost:8080/"
        },
        "id": "1uw7HA0xHRbP",
        "outputId": "2f49c834-06c7-4fc9-c1cc-884b935e131b"
      },
      "source": [
        "y_pred = GNB_best.predict(X_test)\n",
        "y_pred_proba = GNB_best.predict_proba(X_test)[:,1]\n",
        "\n",
        "print(\"GNB Test ROC AUC Score: {:.10f}\".format(roc_auc_score(y_test, y_pred_proba)))\n",
        "print(\"GNB Test Accuracy Score: {:.10f}\".format(accuracy_score(y_test, y_pred)))\n",
        "print(\"GNB Test F1 Score: {:.10f}\".format(f1_score(y_test, y_pred)))"
      ],
      "execution_count": null,
      "outputs": [
        {
          "output_type": "stream",
          "text": [
            "GNB Test ROC AUC Score: 0.9747474747\n",
            "GNB Test Accuracy Score: 0.9310344828\n",
            "GNB Test F1 Score: 0.9090909091\n"
          ],
          "name": "stdout"
        }
      ]
    },
    {
      "cell_type": "markdown",
      "metadata": {
        "id": "yzDNTRi29Ei6"
      },
      "source": [
        "# GaussianNB Best Model Distribution"
      ]
    },
    {
      "cell_type": "code",
      "metadata": {
        "id": "VPgO8elrroEX"
      },
      "source": [
        "train_roc_auc = []\n",
        "train_acc = []\n",
        "train_f1 = []\n",
        "\n",
        "test_roc_auc = []\n",
        "test_acc = []\n",
        "test_f1 = []\n",
        "\n",
        "for i in range(200):\n",
        "  X_train_loop, X_test_loop, y_train_loop, y_test_loop = train_test_split(trainData.drop(trainData.columns[[0,31]], axis=1), trainData.diagnosis, stratify=trainData.diagnosis, test_size=0.1)\n",
        "  X_train_loop, y_train_loop = removeOutliers(X_train_loop, y_train_loop)\n",
        "  \n",
        "  GNB = GaussianNB(var_smoothing=4.89078709413959e-09)\n",
        "  GNB.fit(X_train_loop, y_train_loop)\n",
        "\n",
        "  y_pred = GNB.predict(X_train_loop)\n",
        "  y_pred_proba = GNB.predict_proba(X_train_loop)[:,1]\n",
        "\n",
        "  train_roc_auc.append(roc_auc_score(y_train_loop, y_pred_proba))\n",
        "  train_acc.append(accuracy_score(y_train_loop, y_pred))\n",
        "  train_f1.append(f1_score(y_train_loop, y_pred))\n",
        "\n",
        "  y_pred = GNB.predict(X_test_loop)\n",
        "  y_pred_proba = GNB.predict_proba(X_test_loop)[:,1]\n",
        "\n",
        "  test_roc_auc.append(roc_auc_score(y_test_loop, y_pred_proba))\n",
        "  test_acc.append(accuracy_score(y_test_loop, y_pred))\n",
        "  test_f1.append(f1_score(y_test_loop, y_pred))"
      ],
      "execution_count": null,
      "outputs": []
    },
    {
      "cell_type": "code",
      "metadata": {
        "colab": {
          "base_uri": "https://localhost:8080/",
          "height": 657
        },
        "id": "Pa8n2U5hrvAe",
        "outputId": "9bc52180-29ce-498d-873f-84c36d5a9cbb"
      },
      "source": [
        "f, axs = plt.subplots(2, 3, figsize=(15,9))\n",
        "axs[0,0].set_title(\"Train ROC\")\n",
        "axs[0,1].set_title(\"Train Accuracy\")\n",
        "axs[0,2].set_title(\"Train F1\")\n",
        "axs[1,0].set_title(\"Test ROC\")\n",
        "axs[1,1].set_title(\"Test Accuracy\")\n",
        "axs[1,2].set_title(\"Test F1\")\n",
        "sns.histplot(train_roc_auc, ax=axs[0,0]);\n",
        "sns.histplot(train_acc, ax=axs[0,1]);\n",
        "sns.histplot(train_f1, ax=axs[0,2]);\n",
        "sns.histplot(test_roc_auc, ax=axs[1,0]);\n",
        "sns.histplot(test_acc, ax=axs[1,1]);\n",
        "sns.histplot(test_f1, ax=axs[1,2]);\n",
        "f.tight_layout()"
      ],
      "execution_count": null,
      "outputs": [
        {
          "output_type": "display_data",
          "data": {
            "image/png": "[encoded data removed]",
            "text/plain": [
              "<Figure size 1080x648 with 6 Axes>"
            ]
          },
          "metadata": {
            "tags": [],
            "needs_background": "light"
          }
        }
      ]
    },
    {
      "cell_type": "markdown",
      "metadata": {
        "id": "4xek9fRRGmt5"
      },
      "source": [
        "# Predicting Actual Test Set With GaussianNB (Explanation)"
      ]
    },
    {
      "cell_type": "markdown",
      "metadata": {
        "id": "6xGL7_d1hHxe"
      },
      "source": [
        "The reason why GaussianNB performs better than the other Naive Bayes Model's on this dataset is because GaussianNB is suited for continuous features. So when I train my model to fit this dataset, it calculates the mean and standard deviation of each column given a diagnosis to form a normal (gaussian) distribition of each feature.  Since the GaussianNB assumes that the continuous features in my dataset are normally distributed, this results in having strong evaluation scores for my model."
      ]
    },
    {
      "cell_type": "code",
      "metadata": {
        "id": "l3MgPgClGwEc"
      },
      "source": [
        "X_real_test = testData.drop(trainData.columns[[0]], axis=1)"
      ],
      "execution_count": null,
      "outputs": []
    },
    {
      "cell_type": "code",
      "metadata": {
        "id": "5tDmtyyoHbHM"
      },
      "source": [
        "y_pred = GNB_best.predict(X_real_test)"
      ],
      "execution_count": null,
      "outputs": []
    },
    {
      "cell_type": "code",
      "metadata": {
        "id": "esgJ6uol1Tw6"
      },
      "source": [
        "y_pred.tolist()"
      ],
      "execution_count": null,
      "outputs": []
    },
    {
      "cell_type": "code",
      "metadata": {
        "id": "4X3EHINIIdDV"
      },
      "source": [
        "ans = {'id': testData.id, 'diagnosis': y_pred.tolist()}\n",
        "df = pd.DataFrame(ans)\n",
        "df.to_csv('assignment3.csv', index=False)\n",
        "df"
      ],
      "execution_count": null,
      "outputs": []
    }
  ]
}