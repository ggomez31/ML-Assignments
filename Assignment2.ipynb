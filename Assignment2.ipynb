{
  "nbformat": 4,
  "nbformat_minor": 0,
  "metadata": {
    "colab": {
      "name": "Assignment2.ipynb",
      "provenance": [],
      "collapsed_sections": [],
      "toc_visible": true,
      "authorship_tag": "ABX9TyMQr3aa94jbxJfRyVDoBR/u",
      "include_colab_link": true
    },
    "kernelspec": {
      "name": "python3",
      "display_name": "Python 3"
    }
  },
  "cells": [
    {
      "cell_type": "markdown",
      "metadata": {
        "id": "view-in-github",
        "colab_type": "text"
      },
      "source": [
        "<a href=\"https://colab.research.google.com/github/ggomez31/ML-Assignments/blob/main/Assignment2.ipynb\" target=\"_parent\"><img src=\"https://colab.research.google.com/assets/colab-badge.svg\" alt=\"Open In Colab\"/></a>"
      ]
    },
    {
      "cell_type": "code",
      "metadata": {
        "id": "L7pNbk4n7-ik",
        "colab": {
          "resources": {
            "http://localhost:8080/nbextensions/google.colab/files.js": {
              "data": "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",
              "ok": true,
              "headers": [
                [
                  "content-type",
                  "application/javascript"
                ]
              ],
              "status": 200,
              "status_text": ""
            }
          },
          "base_uri": "https://localhost:8080/",
          "height": 38
        },
        "outputId": "62caa10f-5958-4ac0-ccbc-8f2840fd5fec"
      },
      "source": [
        "import pandas as pd\n",
        "import seaborn as sns\n",
        "import numpy as np\n",
        "from google.colab import files\n",
        "from sklearn.preprocessing import normalize\n",
        "import matplotlib.pyplot as plt\n",
        "import io\n",
        "uploaded = files.upload()"
      ],
      "execution_count": null,
      "outputs": [
        {
          "output_type": "display_data",
          "data": {
            "text/html": [
              "\n",
              "     <input type=\"file\" id=\"files-c9cae106-654d-4458-9fa2-77b8f2bd82b2\" name=\"files[]\" multiple disabled\n",
              "        style=\"border:none\" />\n",
              "     <output id=\"result-c9cae106-654d-4458-9fa2-77b8f2bd82b2\">\n",
              "      Upload widget is only available when the cell has been executed in the\n",
              "      current browser session. Please rerun this cell to enable.\n",
              "      </output>\n",
              "      <script src=\"/nbextensions/google.colab/files.js\"></script> "
            ],
            "text/plain": [
              "<IPython.core.display.HTML object>"
            ]
          },
          "metadata": {
            "tags": []
          }
        }
      ]
    },
    {
      "cell_type": "code",
      "metadata": {
        "id": "Ss04v1vK726i"
      },
      "source": [
        "trainData = pd.read_csv('train.csv')\n",
        "testData = pd.read_csv('test.csv')"
      ],
      "execution_count": null,
      "outputs": []
    },
    {
      "cell_type": "markdown",
      "metadata": {
        "id": "hvXfPFbW3zRM"
      },
      "source": [
        "Checking for null/missing values. There are none."
      ]
    },
    {
      "cell_type": "code",
      "metadata": {
        "colab": {
          "base_uri": "https://localhost:8080/"
        },
        "id": "txq9rzOq3s4w",
        "outputId": "7701bbb5-442d-40a5-c932-bc43e37221aa"
      },
      "source": [
        "trainData.info()"
      ],
      "execution_count": null,
      "outputs": [
        {
          "output_type": "stream",
          "text": [
            "<class 'pandas.core.frame.DataFrame'>\n",
            "RangeIndex: 799 entries, 0 to 798\n",
            "Data columns (total 13 columns):\n",
            " #   Column                Non-Null Count  Dtype  \n",
            "---  ------                --------------  -----  \n",
            " 0   id                    799 non-null    int64  \n",
            " 1   fixed acidity         799 non-null    float64\n",
            " 2   volatile acidity      799 non-null    float64\n",
            " 3   citric acid           799 non-null    float64\n",
            " 4   residual sugar        799 non-null    float64\n",
            " 5   chlorides             799 non-null    float64\n",
            " 6   free sulfur dioxide   799 non-null    float64\n",
            " 7   total sulfur dioxide  799 non-null    float64\n",
            " 8   density               799 non-null    float64\n",
            " 9   pH                    799 non-null    float64\n",
            " 10  sulphates             799 non-null    float64\n",
            " 11  alcohol               799 non-null    float64\n",
            " 12  quality               799 non-null    int64  \n",
            "dtypes: float64(11), int64(2)\n",
            "memory usage: 81.3 KB\n"
          ],
          "name": "stdout"
        }
      ]
    },
    {
      "cell_type": "markdown",
      "metadata": {
        "id": "7Vu8nwQhbMzy"
      },
      "source": [
        "Checking for class imbalance in our target feature."
      ]
    },
    {
      "cell_type": "code",
      "metadata": {
        "id": "hNaa4jxIa36c",
        "colab": {
          "base_uri": "https://localhost:8080/",
          "height": 350
        },
        "outputId": "274a4f08-c110-43e3-f382-bd42eb6ec984"
      },
      "source": [
        "sns.countplot(trainData.quality)"
      ],
      "execution_count": null,
      "outputs": [
        {
          "output_type": "stream",
          "text": [
            "/usr/local/lib/python3.7/dist-packages/seaborn/_decorators.py:43: FutureWarning: Pass the following variable as a keyword arg: x. From version 0.12, the only valid positional argument will be `data`, and passing other arguments without an explicit keyword will result in an error or misinterpretation.\n",
            "  FutureWarning\n"
          ],
          "name": "stderr"
        },
        {
          "output_type": "execute_result",
          "data": {
            "text/plain": [
              "<matplotlib.axes._subplots.AxesSubplot at 0x7f4c153a34d0>"
            ]
          },
          "metadata": {
            "tags": []
          },
          "execution_count": 331
        },
        {
          "output_type": "display_data",
          "data": {
            "image/png": "[encoded data removed]",
            "text/plain": [
              "<Figure size 432x288 with 1 Axes>"
            ]
          },
          "metadata": {
            "tags": [],
            "needs_background": "light"
          }
        }
      ]
    },
    {
      "cell_type": "code",
      "metadata": {
        "id": "6LxfCalXaGz_",
        "colab": {
          "base_uri": "https://localhost:8080/",
          "height": 297
        },
        "outputId": "2631ad80-268d-4b5b-b286-4d3ce2f3195e"
      },
      "source": [
        "trainData.describe()"
      ],
      "execution_count": null,
      "outputs": [
        {
          "output_type": "execute_result",
          "data": {
            "text/html": [
              "<div>\n",
              "<style scoped>\n",
              "    .dataframe tbody tr th:only-of-type {\n",
              "        vertical-align: middle;\n",
              "    }\n",
              "\n",
              "    .dataframe tbody tr th {\n",
              "        vertical-align: top;\n",
              "    }\n",
              "\n",
              "    .dataframe thead th {\n",
              "        text-align: right;\n",
              "    }\n",
              "</style>\n",
              "<table border=\"1\" class=\"dataframe\">\n",
              "  <thead>\n",
              "    <tr style=\"text-align: right;\">\n",
              "      <th></th>\n",
              "      <th>id</th>\n",
              "      <th>fixed acidity</th>\n",
              "      <th>volatile acidity</th>\n",
              "      <th>citric acid</th>\n",
              "      <th>residual sugar</th>\n",
              "      <th>chlorides</th>\n",
              "      <th>free sulfur dioxide</th>\n",
              "      <th>total sulfur dioxide</th>\n",
              "      <th>density</th>\n",
              "      <th>pH</th>\n",
              "      <th>sulphates</th>\n",
              "      <th>alcohol</th>\n",
              "      <th>quality</th>\n",
              "    </tr>\n",
              "  </thead>\n",
              "  <tbody>\n",
              "    <tr>\n",
              "      <th>count</th>\n",
              "      <td>799.000000</td>\n",
              "      <td>799.000000</td>\n",
              "      <td>799.000000</td>\n",
              "      <td>799.000000</td>\n",
              "      <td>799.000000</td>\n",
              "      <td>799.000000</td>\n",
              "      <td>799.000000</td>\n",
              "      <td>799.000000</td>\n",
              "      <td>799.000000</td>\n",
              "      <td>799.000000</td>\n",
              "      <td>799.000000</td>\n",
              "      <td>799.000000</td>\n",
              "      <td>799.000000</td>\n",
              "    </tr>\n",
              "    <tr>\n",
              "      <th>mean</th>\n",
              "      <td>399.000000</td>\n",
              "      <td>8.404255</td>\n",
              "      <td>0.532972</td>\n",
              "      <td>0.275207</td>\n",
              "      <td>2.543930</td>\n",
              "      <td>0.087874</td>\n",
              "      <td>15.732791</td>\n",
              "      <td>46.568836</td>\n",
              "      <td>0.996901</td>\n",
              "      <td>3.310300</td>\n",
              "      <td>0.663692</td>\n",
              "      <td>10.371652</td>\n",
              "      <td>0.534418</td>\n",
              "    </tr>\n",
              "    <tr>\n",
              "      <th>std</th>\n",
              "      <td>230.795725</td>\n",
              "      <td>1.820637</td>\n",
              "      <td>0.180163</td>\n",
              "      <td>0.199743</td>\n",
              "      <td>1.380552</td>\n",
              "      <td>0.046212</td>\n",
              "      <td>10.102371</td>\n",
              "      <td>32.453258</td>\n",
              "      <td>0.001891</td>\n",
              "      <td>0.158626</td>\n",
              "      <td>0.178889</td>\n",
              "      <td>1.038703</td>\n",
              "      <td>0.499126</td>\n",
              "    </tr>\n",
              "    <tr>\n",
              "      <th>min</th>\n",
              "      <td>0.000000</td>\n",
              "      <td>4.600000</td>\n",
              "      <td>0.160000</td>\n",
              "      <td>0.000000</td>\n",
              "      <td>1.200000</td>\n",
              "      <td>0.012000</td>\n",
              "      <td>1.000000</td>\n",
              "      <td>6.000000</td>\n",
              "      <td>0.990640</td>\n",
              "      <td>2.740000</td>\n",
              "      <td>0.370000</td>\n",
              "      <td>8.400000</td>\n",
              "      <td>0.000000</td>\n",
              "    </tr>\n",
              "    <tr>\n",
              "      <th>25%</th>\n",
              "      <td>199.500000</td>\n",
              "      <td>7.100000</td>\n",
              "      <td>0.395000</td>\n",
              "      <td>0.090000</td>\n",
              "      <td>1.900000</td>\n",
              "      <td>0.071000</td>\n",
              "      <td>7.000000</td>\n",
              "      <td>22.000000</td>\n",
              "      <td>0.995725</td>\n",
              "      <td>3.210000</td>\n",
              "      <td>0.550000</td>\n",
              "      <td>9.500000</td>\n",
              "      <td>0.000000</td>\n",
              "    </tr>\n",
              "    <tr>\n",
              "      <th>50%</th>\n",
              "      <td>399.000000</td>\n",
              "      <td>7.900000</td>\n",
              "      <td>0.520000</td>\n",
              "      <td>0.260000</td>\n",
              "      <td>2.200000</td>\n",
              "      <td>0.080000</td>\n",
              "      <td>14.000000</td>\n",
              "      <td>37.000000</td>\n",
              "      <td>0.996820</td>\n",
              "      <td>3.310000</td>\n",
              "      <td>0.620000</td>\n",
              "      <td>10.100000</td>\n",
              "      <td>1.000000</td>\n",
              "    </tr>\n",
              "    <tr>\n",
              "      <th>75%</th>\n",
              "      <td>598.500000</td>\n",
              "      <td>9.300000</td>\n",
              "      <td>0.640000</td>\n",
              "      <td>0.440000</td>\n",
              "      <td>2.600000</td>\n",
              "      <td>0.091000</td>\n",
              "      <td>21.000000</td>\n",
              "      <td>65.000000</td>\n",
              "      <td>0.998000</td>\n",
              "      <td>3.400000</td>\n",
              "      <td>0.735000</td>\n",
              "      <td>11.000000</td>\n",
              "      <td>1.000000</td>\n",
              "    </tr>\n",
              "    <tr>\n",
              "      <th>max</th>\n",
              "      <td>798.000000</td>\n",
              "      <td>15.600000</td>\n",
              "      <td>1.580000</td>\n",
              "      <td>1.000000</td>\n",
              "      <td>15.500000</td>\n",
              "      <td>0.610000</td>\n",
              "      <td>55.000000</td>\n",
              "      <td>278.000000</td>\n",
              "      <td>1.003690</td>\n",
              "      <td>4.010000</td>\n",
              "      <td>2.000000</td>\n",
              "      <td>14.000000</td>\n",
              "      <td>1.000000</td>\n",
              "    </tr>\n",
              "  </tbody>\n",
              "</table>\n",
              "</div>"
            ],
            "text/plain": [
              "               id  fixed acidity  volatile acidity  citric acid  \\\n",
              "count  799.000000     799.000000        799.000000   799.000000   \n",
              "mean   399.000000       8.404255          0.532972     0.275207   \n",
              "std    230.795725       1.820637          0.180163     0.199743   \n",
              "min      0.000000       4.600000          0.160000     0.000000   \n",
              "25%    199.500000       7.100000          0.395000     0.090000   \n",
              "50%    399.000000       7.900000          0.520000     0.260000   \n",
              "75%    598.500000       9.300000          0.640000     0.440000   \n",
              "max    798.000000      15.600000          1.580000     1.000000   \n",
              "\n",
              "       residual sugar   chlorides  free sulfur dioxide  total sulfur dioxide  \\\n",
              "count      799.000000  799.000000           799.000000            799.000000   \n",
              "mean         2.543930    0.087874            15.732791             46.568836   \n",
              "std          1.380552    0.046212            10.102371             32.453258   \n",
              "min          1.200000    0.012000             1.000000              6.000000   \n",
              "25%          1.900000    0.071000             7.000000             22.000000   \n",
              "50%          2.200000    0.080000            14.000000             37.000000   \n",
              "75%          2.600000    0.091000            21.000000             65.000000   \n",
              "max         15.500000    0.610000            55.000000            278.000000   \n",
              "\n",
              "          density          pH   sulphates     alcohol     quality  \n",
              "count  799.000000  799.000000  799.000000  799.000000  799.000000  \n",
              "mean     0.996901    3.310300    0.663692   10.371652    0.534418  \n",
              "std      0.001891    0.158626    0.178889    1.038703    0.499126  \n",
              "min      0.990640    2.740000    0.370000    8.400000    0.000000  \n",
              "25%      0.995725    3.210000    0.550000    9.500000    0.000000  \n",
              "50%      0.996820    3.310000    0.620000   10.100000    1.000000  \n",
              "75%      0.998000    3.400000    0.735000   11.000000    1.000000  \n",
              "max      1.003690    4.010000    2.000000   14.000000    1.000000  "
            ]
          },
          "metadata": {
            "tags": []
          },
          "execution_count": 332
        }
      ]
    },
    {
      "cell_type": "markdown",
      "metadata": {
        "id": "TIvtcqzccis5"
      },
      "source": [
        "Drop id and target feature column, and assign to 'X'. Assign target feature column to 'y'."
      ]
    },
    {
      "cell_type": "code",
      "metadata": {
        "id": "jMPLlRBvaTq2"
      },
      "source": [
        "X = trainData.drop(trainData.columns[[0,12]], axis=1)\n",
        "y = trainData.quality"
      ],
      "execution_count": null,
      "outputs": []
    },
    {
      "cell_type": "markdown",
      "metadata": {
        "id": "u683M4nNZrtM"
      },
      "source": [
        "Checking for variance. I see that \"fixed acidity\", \"residual sugar\", \"free sulfur dioxide\", and \"total sulfur dioxide\" have high variance."
      ]
    },
    {
      "cell_type": "code",
      "metadata": {
        "id": "VOPJ3YCYBLkA",
        "colab": {
          "base_uri": "https://localhost:8080/"
        },
        "outputId": "9fa76ff2-f766-4eb4-f474-45b58b31d170"
      },
      "source": [
        "X.var()"
      ],
      "execution_count": null,
      "outputs": [
        {
          "output_type": "execute_result",
          "data": {
            "text/plain": [
              "fixed acidity              3.314719\n",
              "volatile acidity           0.032459\n",
              "citric acid                0.039897\n",
              "residual sugar             1.905925\n",
              "chlorides                  0.002136\n",
              "free sulfur dioxide      102.057896\n",
              "total sulfur dioxide    1053.213927\n",
              "density                    0.000004\n",
              "pH                         0.025162\n",
              "sulphates                  0.032001\n",
              "alcohol                    1.078903\n",
              "dtype: float64"
            ]
          },
          "metadata": {
            "tags": []
          },
          "execution_count": 334
        }
      ]
    },
    {
      "cell_type": "markdown",
      "metadata": {
        "id": "XiIAfGDO3-kE"
      },
      "source": [
        "Computing the IQR and upper and lower thresholds to check for any outliers present in my data. I decided not to deal with handling outliers."
      ]
    },
    {
      "cell_type": "code",
      "metadata": {
        "id": "OumOCkVaveXa"
      },
      "source": [
        "def getOutliers(trainData):  \n",
        "    Q1 = trainData.quantile(0.25)\n",
        "    Q3 = trainData.quantile(0.75)\n",
        "    IQR = Q3 - Q1\n",
        "    upper = Q3 + (1.5 * IQR)\n",
        "    lower = Q1 - (1.5 * IQR)\n",
        "    res = ((trainData < lower) | (trainData > upper))\n",
        "    for i in range(res.shape[1]):\n",
        "        print(res.iloc[:,i].value_counts())"
      ],
      "execution_count": null,
      "outputs": []
    },
    {
      "cell_type": "code",
      "metadata": {
        "colab": {
          "base_uri": "https://localhost:8080/"
        },
        "id": "HvTvEg0dvhX5",
        "outputId": "33af33e3-fcec-45e5-fbf2-b3ebc4920c36"
      },
      "source": [
        "getOutliers(X)"
      ],
      "execution_count": null,
      "outputs": [
        {
          "output_type": "stream",
          "text": [
            "False    775\n",
            "True      24\n",
            "Name: fixed acidity, dtype: int64\n",
            "False    790\n",
            "True       9\n",
            "Name: volatile acidity, dtype: int64\n",
            "False    798\n",
            "True       1\n",
            "Name: citric acid, dtype: int64\n",
            "False    720\n",
            "True      79\n",
            "Name: residual sugar, dtype: int64\n",
            "False    742\n",
            "True      57\n",
            "Name: chlorides, dtype: int64\n",
            "False    787\n",
            "True      12\n",
            "Name: free sulfur dioxide, dtype: int64\n",
            "False    778\n",
            "True      21\n",
            "Name: total sulfur dioxide, dtype: int64\n",
            "False    784\n",
            "True      15\n",
            "Name: density, dtype: int64\n",
            "False    780\n",
            "True      19\n",
            "Name: pH, dtype: int64\n",
            "False    769\n",
            "True      30\n",
            "Name: sulphates, dtype: int64\n",
            "False    793\n",
            "True       6\n",
            "Name: alcohol, dtype: int64\n"
          ],
          "name": "stdout"
        }
      ]
    },
    {
      "cell_type": "markdown",
      "metadata": {
        "id": "HLXgUOLWKfRO"
      },
      "source": [
        "Defining a function that will perform normalization to each instance of a dataset to reduce the variance since normalization is centered around scaling your data down while standardization focuses on having your data centered around a mean of 0 and std of 1. KNN is sensitive to the variance of data so normalization will help solve this issue."
      ]
    },
    {
      "cell_type": "code",
      "metadata": {
        "id": "f5XGOKskYhFT"
      },
      "source": [
        "def normalizeData(data):\n",
        "  cols = ['fixed acidity', 'residual sugar', 'free sulfur dioxide', 'total sulfur dioxide']\n",
        "  X_subset = normalize(data.loc[:,cols], axis = 0)\n",
        "  data.values[:, 0] = X_subset[:, 0]\n",
        "  data.values[:, 3] = X_subset[:, 1]\n",
        "  data.values[:, 5] = X_subset[:, 2]\n",
        "  data.values[:, 6] = X_subset[:, 3]\n",
        "  #data.values[:, 10] = X_subset[:, 4]\n",
        "  return data"
      ],
      "execution_count": null,
      "outputs": []
    },
    {
      "cell_type": "code",
      "metadata": {
        "id": "3telnu5otD3R"
      },
      "source": [
        "from sklearn.model_selection import train_test_split\n",
        "X_train, X_test, y_train, y_test = train_test_split(X, y, test_size=0.1, random_state=9)"
      ],
      "execution_count": null,
      "outputs": []
    },
    {
      "cell_type": "code",
      "metadata": {
        "id": "7nSrvQVbqecJ",
        "colab": {
          "base_uri": "https://localhost:8080/",
          "height": 297
        },
        "outputId": "c2d92615-620c-4d3d-ef77-02e604af2bdc"
      },
      "source": [
        "X_train = normalizeData(X_train)\n",
        "X_train.describe()"
      ],
      "execution_count": null,
      "outputs": [
        {
          "output_type": "execute_result",
          "data": {
            "text/html": [
              "<div>\n",
              "<style scoped>\n",
              "    .dataframe tbody tr th:only-of-type {\n",
              "        vertical-align: middle;\n",
              "    }\n",
              "\n",
              "    .dataframe tbody tr th {\n",
              "        vertical-align: top;\n",
              "    }\n",
              "\n",
              "    .dataframe thead th {\n",
              "        text-align: right;\n",
              "    }\n",
              "</style>\n",
              "<table border=\"1\" class=\"dataframe\">\n",
              "  <thead>\n",
              "    <tr style=\"text-align: right;\">\n",
              "      <th></th>\n",
              "      <th>fixed acidity</th>\n",
              "      <th>volatile acidity</th>\n",
              "      <th>citric acid</th>\n",
              "      <th>residual sugar</th>\n",
              "      <th>chlorides</th>\n",
              "      <th>free sulfur dioxide</th>\n",
              "      <th>total sulfur dioxide</th>\n",
              "      <th>density</th>\n",
              "      <th>pH</th>\n",
              "      <th>sulphates</th>\n",
              "      <th>alcohol</th>\n",
              "    </tr>\n",
              "  </thead>\n",
              "  <tbody>\n",
              "    <tr>\n",
              "      <th>count</th>\n",
              "      <td>719.000000</td>\n",
              "      <td>719.000000</td>\n",
              "      <td>719.000000</td>\n",
              "      <td>719.000000</td>\n",
              "      <td>719.000000</td>\n",
              "      <td>719.000000</td>\n",
              "      <td>719.000000</td>\n",
              "      <td>719.000000</td>\n",
              "      <td>719.000000</td>\n",
              "      <td>719.000000</td>\n",
              "      <td>719.000000</td>\n",
              "    </tr>\n",
              "    <tr>\n",
              "      <th>mean</th>\n",
              "      <td>0.036437</td>\n",
              "      <td>0.533018</td>\n",
              "      <td>0.274729</td>\n",
              "      <td>0.033080</td>\n",
              "      <td>0.087818</td>\n",
              "      <td>0.031499</td>\n",
              "      <td>0.030649</td>\n",
              "      <td>0.996872</td>\n",
              "      <td>3.311419</td>\n",
              "      <td>0.661154</td>\n",
              "      <td>10.382313</td>\n",
              "    </tr>\n",
              "    <tr>\n",
              "      <th>std</th>\n",
              "      <td>0.007954</td>\n",
              "      <td>0.182444</td>\n",
              "      <td>0.199886</td>\n",
              "      <td>0.017233</td>\n",
              "      <td>0.046808</td>\n",
              "      <td>0.019980</td>\n",
              "      <td>0.021262</td>\n",
              "      <td>0.001870</td>\n",
              "      <td>0.160259</td>\n",
              "      <td>0.173967</td>\n",
              "      <td>1.050320</td>\n",
              "    </tr>\n",
              "    <tr>\n",
              "      <th>min</th>\n",
              "      <td>0.019957</td>\n",
              "      <td>0.160000</td>\n",
              "      <td>0.000000</td>\n",
              "      <td>0.015772</td>\n",
              "      <td>0.012000</td>\n",
              "      <td>0.001990</td>\n",
              "      <td>0.003935</td>\n",
              "      <td>0.990640</td>\n",
              "      <td>2.740000</td>\n",
              "      <td>0.370000</td>\n",
              "      <td>8.400000</td>\n",
              "    </tr>\n",
              "    <tr>\n",
              "      <th>25%</th>\n",
              "      <td>0.030804</td>\n",
              "      <td>0.400000</td>\n",
              "      <td>0.090000</td>\n",
              "      <td>0.024973</td>\n",
              "      <td>0.071000</td>\n",
              "      <td>0.014921</td>\n",
              "      <td>0.015085</td>\n",
              "      <td>0.995720</td>\n",
              "      <td>3.210000</td>\n",
              "      <td>0.550000</td>\n",
              "      <td>9.500000</td>\n",
              "    </tr>\n",
              "    <tr>\n",
              "      <th>50%</th>\n",
              "      <td>0.034275</td>\n",
              "      <td>0.520000</td>\n",
              "      <td>0.260000</td>\n",
              "      <td>0.028916</td>\n",
              "      <td>0.080000</td>\n",
              "      <td>0.027853</td>\n",
              "      <td>0.024924</td>\n",
              "      <td>0.996800</td>\n",
              "      <td>3.310000</td>\n",
              "      <td>0.620000</td>\n",
              "      <td>10.100000</td>\n",
              "    </tr>\n",
              "    <tr>\n",
              "      <th>75%</th>\n",
              "      <td>0.040349</td>\n",
              "      <td>0.640000</td>\n",
              "      <td>0.440000</td>\n",
              "      <td>0.034174</td>\n",
              "      <td>0.091000</td>\n",
              "      <td>0.041780</td>\n",
              "      <td>0.042632</td>\n",
              "      <td>0.997900</td>\n",
              "      <td>3.400000</td>\n",
              "      <td>0.730000</td>\n",
              "      <td>11.000000</td>\n",
              "    </tr>\n",
              "    <tr>\n",
              "      <th>max</th>\n",
              "      <td>0.067682</td>\n",
              "      <td>1.580000</td>\n",
              "      <td>1.000000</td>\n",
              "      <td>0.203727</td>\n",
              "      <td>0.610000</td>\n",
              "      <td>0.109424</td>\n",
              "      <td>0.182335</td>\n",
              "      <td>1.003690</td>\n",
              "      <td>4.010000</td>\n",
              "      <td>2.000000</td>\n",
              "      <td>14.000000</td>\n",
              "    </tr>\n",
              "  </tbody>\n",
              "</table>\n",
              "</div>"
            ],
            "text/plain": [
              "       fixed acidity  volatile acidity  citric acid  residual sugar  \\\n",
              "count     719.000000        719.000000   719.000000      719.000000   \n",
              "mean        0.036437          0.533018     0.274729        0.033080   \n",
              "std         0.007954          0.182444     0.199886        0.017233   \n",
              "min         0.019957          0.160000     0.000000        0.015772   \n",
              "25%         0.030804          0.400000     0.090000        0.024973   \n",
              "50%         0.034275          0.520000     0.260000        0.028916   \n",
              "75%         0.040349          0.640000     0.440000        0.034174   \n",
              "max         0.067682          1.580000     1.000000        0.203727   \n",
              "\n",
              "        chlorides  free sulfur dioxide  total sulfur dioxide     density  \\\n",
              "count  719.000000           719.000000            719.000000  719.000000   \n",
              "mean     0.087818             0.031499              0.030649    0.996872   \n",
              "std      0.046808             0.019980              0.021262    0.001870   \n",
              "min      0.012000             0.001990              0.003935    0.990640   \n",
              "25%      0.071000             0.014921              0.015085    0.995720   \n",
              "50%      0.080000             0.027853              0.024924    0.996800   \n",
              "75%      0.091000             0.041780              0.042632    0.997900   \n",
              "max      0.610000             0.109424              0.182335    1.003690   \n",
              "\n",
              "               pH   sulphates     alcohol  \n",
              "count  719.000000  719.000000  719.000000  \n",
              "mean     3.311419    0.661154   10.382313  \n",
              "std      0.160259    0.173967    1.050320  \n",
              "min      2.740000    0.370000    8.400000  \n",
              "25%      3.210000    0.550000    9.500000  \n",
              "50%      3.310000    0.620000   10.100000  \n",
              "75%      3.400000    0.730000   11.000000  \n",
              "max      4.010000    2.000000   14.000000  "
            ]
          },
          "metadata": {
            "tags": []
          },
          "execution_count": 462
        }
      ]
    },
    {
      "cell_type": "code",
      "metadata": {
        "colab": {
          "base_uri": "https://localhost:8080/",
          "height": 297
        },
        "id": "g_aCIKK0WpOe",
        "outputId": "f04367a6-a022-415a-f851-03bb959d2c6e"
      },
      "source": [
        "X_test = normalizeData(X_test)\n",
        "X_test.describe()"
      ],
      "execution_count": null,
      "outputs": [
        {
          "output_type": "execute_result",
          "data": {
            "text/html": [
              "<div>\n",
              "<style scoped>\n",
              "    .dataframe tbody tr th:only-of-type {\n",
              "        vertical-align: middle;\n",
              "    }\n",
              "\n",
              "    .dataframe tbody tr th {\n",
              "        vertical-align: top;\n",
              "    }\n",
              "\n",
              "    .dataframe thead th {\n",
              "        text-align: right;\n",
              "    }\n",
              "</style>\n",
              "<table border=\"1\" class=\"dataframe\">\n",
              "  <thead>\n",
              "    <tr style=\"text-align: right;\">\n",
              "      <th></th>\n",
              "      <th>fixed acidity</th>\n",
              "      <th>volatile acidity</th>\n",
              "      <th>citric acid</th>\n",
              "      <th>residual sugar</th>\n",
              "      <th>chlorides</th>\n",
              "      <th>free sulfur dioxide</th>\n",
              "      <th>total sulfur dioxide</th>\n",
              "      <th>density</th>\n",
              "      <th>pH</th>\n",
              "      <th>sulphates</th>\n",
              "      <th>alcohol</th>\n",
              "    </tr>\n",
              "  </thead>\n",
              "  <tbody>\n",
              "    <tr>\n",
              "      <th>count</th>\n",
              "      <td>80.000000</td>\n",
              "      <td>80.000000</td>\n",
              "      <td>80.000000</td>\n",
              "      <td>80.000000</td>\n",
              "      <td>80.000000</td>\n",
              "      <td>80.000000</td>\n",
              "      <td>80.000000</td>\n",
              "      <td>80.000000</td>\n",
              "      <td>80.000000</td>\n",
              "      <td>80.000000</td>\n",
              "      <td>80.000000</td>\n",
              "    </tr>\n",
              "    <tr>\n",
              "      <th>mean</th>\n",
              "      <td>0.109607</td>\n",
              "      <td>0.532562</td>\n",
              "      <td>0.279500</td>\n",
              "      <td>0.092771</td>\n",
              "      <td>0.088375</td>\n",
              "      <td>0.091024</td>\n",
              "      <td>0.090500</td>\n",
              "      <td>0.997164</td>\n",
              "      <td>3.300250</td>\n",
              "      <td>0.686500</td>\n",
              "      <td>10.275833</td>\n",
              "    </tr>\n",
              "    <tr>\n",
              "      <th>std</th>\n",
              "      <td>0.022192</td>\n",
              "      <td>0.159227</td>\n",
              "      <td>0.199651</td>\n",
              "      <td>0.062792</td>\n",
              "      <td>0.040716</td>\n",
              "      <td>0.065330</td>\n",
              "      <td>0.066063</td>\n",
              "      <td>0.002065</td>\n",
              "      <td>0.143641</td>\n",
              "      <td>0.218186</td>\n",
              "      <td>0.928256</td>\n",
              "    </tr>\n",
              "    <tr>\n",
              "      <th>min</th>\n",
              "      <td>0.072574</td>\n",
              "      <td>0.250000</td>\n",
              "      <td>0.000000</td>\n",
              "      <td>0.049910</td>\n",
              "      <td>0.038000</td>\n",
              "      <td>0.018404</td>\n",
              "      <td>0.016044</td>\n",
              "      <td>0.992560</td>\n",
              "      <td>2.930000</td>\n",
              "      <td>0.390000</td>\n",
              "      <td>9.000000</td>\n",
              "    </tr>\n",
              "    <tr>\n",
              "      <th>25%</th>\n",
              "      <td>0.093310</td>\n",
              "      <td>0.390000</td>\n",
              "      <td>0.097500</td>\n",
              "      <td>0.063220</td>\n",
              "      <td>0.070000</td>\n",
              "      <td>0.036808</td>\n",
              "      <td>0.036100</td>\n",
              "      <td>0.995940</td>\n",
              "      <td>3.197500</td>\n",
              "      <td>0.560000</td>\n",
              "      <td>9.500000</td>\n",
              "    </tr>\n",
              "    <tr>\n",
              "      <th>50%</th>\n",
              "      <td>0.101086</td>\n",
              "      <td>0.530000</td>\n",
              "      <td>0.280000</td>\n",
              "      <td>0.076529</td>\n",
              "      <td>0.077500</td>\n",
              "      <td>0.073617</td>\n",
              "      <td>0.070194</td>\n",
              "      <td>0.997030</td>\n",
              "      <td>3.290000</td>\n",
              "      <td>0.620000</td>\n",
              "      <td>10.000000</td>\n",
              "    </tr>\n",
              "    <tr>\n",
              "      <th>75%</th>\n",
              "      <td>0.123117</td>\n",
              "      <td>0.651250</td>\n",
              "      <td>0.440000</td>\n",
              "      <td>0.093166</td>\n",
              "      <td>0.095250</td>\n",
              "      <td>0.116560</td>\n",
              "      <td>0.128355</td>\n",
              "      <td>0.998305</td>\n",
              "      <td>3.380000</td>\n",
              "      <td>0.780000</td>\n",
              "      <td>10.925000</td>\n",
              "    </tr>\n",
              "    <tr>\n",
              "      <th>max</th>\n",
              "      <td>0.171068</td>\n",
              "      <td>1.020000</td>\n",
              "      <td>0.680000</td>\n",
              "      <td>0.512413</td>\n",
              "      <td>0.358000</td>\n",
              "      <td>0.337411</td>\n",
              "      <td>0.302837</td>\n",
              "      <td>1.003690</td>\n",
              "      <td>3.710000</td>\n",
              "      <td>1.950000</td>\n",
              "      <td>12.900000</td>\n",
              "    </tr>\n",
              "  </tbody>\n",
              "</table>\n",
              "</div>"
            ],
            "text/plain": [
              "       fixed acidity  volatile acidity  citric acid  residual sugar  \\\n",
              "count      80.000000         80.000000    80.000000       80.000000   \n",
              "mean        0.109607          0.532562     0.279500        0.092771   \n",
              "std         0.022192          0.159227     0.199651        0.062792   \n",
              "min         0.072574          0.250000     0.000000        0.049910   \n",
              "25%         0.093310          0.390000     0.097500        0.063220   \n",
              "50%         0.101086          0.530000     0.280000        0.076529   \n",
              "75%         0.123117          0.651250     0.440000        0.093166   \n",
              "max         0.171068          1.020000     0.680000        0.512413   \n",
              "\n",
              "       chlorides  free sulfur dioxide  total sulfur dioxide    density  \\\n",
              "count  80.000000            80.000000             80.000000  80.000000   \n",
              "mean    0.088375             0.091024              0.090500   0.997164   \n",
              "std     0.040716             0.065330              0.066063   0.002065   \n",
              "min     0.038000             0.018404              0.016044   0.992560   \n",
              "25%     0.070000             0.036808              0.036100   0.995940   \n",
              "50%     0.077500             0.073617              0.070194   0.997030   \n",
              "75%     0.095250             0.116560              0.128355   0.998305   \n",
              "max     0.358000             0.337411              0.302837   1.003690   \n",
              "\n",
              "              pH  sulphates    alcohol  \n",
              "count  80.000000  80.000000  80.000000  \n",
              "mean    3.300250   0.686500  10.275833  \n",
              "std     0.143641   0.218186   0.928256  \n",
              "min     2.930000   0.390000   9.000000  \n",
              "25%     3.197500   0.560000   9.500000  \n",
              "50%     3.290000   0.620000  10.000000  \n",
              "75%     3.380000   0.780000  10.925000  \n",
              "max     3.710000   1.950000  12.900000  "
            ]
          },
          "metadata": {
            "tags": []
          },
          "execution_count": 463
        }
      ]
    },
    {
      "cell_type": "code",
      "metadata": {
        "id": "htx5nc_rwlQ3",
        "colab": {
          "base_uri": "https://localhost:8080/"
        },
        "outputId": "a5e922e4-92b4-41f5-add6-942094a28725"
      },
      "source": [
        "from sklearn.neighbors import KNeighborsClassifier\n",
        "from sklearn.model_selection import GridSearchCV\n",
        "from sklearn.metrics import roc_auc_score, accuracy_score, f1_score\n",
        "params = {'n_neighbors':[25, 50, 75],\n",
        "          'p': [2],\n",
        "          'weights':['distance'],\n",
        "          }\n",
        "grid_knn = GridSearchCV(estimator=KNeighborsClassifier(),\n",
        "                        param_grid=params,\n",
        "                        cv=10,\n",
        "                        n_jobs=-1)\n",
        "grid_knn.fit(X_train, y_train)\n",
        "\n",
        "print(grid_knn.best_estimator_)\n",
        "print(grid_knn.best_score_)"
      ],
      "execution_count": null,
      "outputs": [
        {
          "output_type": "stream",
          "text": [
            "KNeighborsClassifier(algorithm='auto', leaf_size=30, metric='minkowski',\n",
            "                     metric_params=None, n_jobs=None, n_neighbors=25, p=2,\n",
            "                     weights='distance')\n",
            "0.8024647887323944\n"
          ],
          "name": "stdout"
        }
      ]
    },
    {
      "cell_type": "markdown",
      "metadata": {
        "id": "r0SnzRN91KgN"
      },
      "source": [
        "Evaluating the model's performance on the training data that was used to fit the model. Output should all be 1.0."
      ]
    },
    {
      "cell_type": "code",
      "metadata": {
        "colab": {
          "base_uri": "https://localhost:8080/"
        },
        "id": "3ttVLd31heWC",
        "outputId": "0cb496be-f26c-4f3c-d25a-503f3c8fdf69"
      },
      "source": [
        "y_pred = grid_knn.predict(X_train)\n",
        "y_pred_proba_knn = grid_knn.predict_proba(X_train)[:,1]\n",
        "\n",
        "grid_knn_roc = roc_auc_score(y_train, y_pred_proba_knn)\n",
        "knn_acc_score = accuracy_score(y_train, y_pred)\n",
        "knn_f1 = f1_score(y_train, y_pred)\n",
        "\n",
        "print(\"KNN ROC AOC Score: {:.10f}\".format(grid_knn_roc))\n",
        "print(\"KNN Accuracy Score: {:.10f}\".format(knn_acc_score))\n",
        "print(\"KNN F1 score: {:.10f}\".format(knn_f1))"
      ],
      "execution_count": null,
      "outputs": [
        {
          "output_type": "stream",
          "text": [
            "KNN ROC AOC Score: 1.0000000000\n",
            "KNN Accuracy Score: 1.0000000000\n",
            "KNN F1 score: 1.0000000000\n"
          ],
          "name": "stdout"
        }
      ]
    },
    {
      "cell_type": "markdown",
      "metadata": {
        "id": "QJKp6_Kz1Y6A"
      },
      "source": [
        "Evaluating the model's performance on the test split. "
      ]
    },
    {
      "cell_type": "code",
      "metadata": {
        "colab": {
          "base_uri": "https://localhost:8080/"
        },
        "id": "qnUcWWjnNvT8",
        "outputId": "a7abc603-89f1-40db-cfa3-26f221f1c298"
      },
      "source": [
        "y_pred = grid_knn.predict(X_test)\n",
        "y_pred_proba_knn = grid_knn.predict_proba(X_test)[:,1]\n",
        "\n",
        "grid_knn_roc = roc_auc_score(y_test, y_pred_proba_knn)\n",
        "knn_acc_score = accuracy_score(y_test, y_pred)\n",
        "knn_f1 = f1_score(y_test, y_pred)\n",
        "\n",
        "print(\"KNN ROC AOC Score: {:.10f}\".format(grid_knn_roc))\n",
        "print(\"KNN Accuracy Score: {:.10f}\".format(knn_acc_score))\n",
        "print(\"KNN F1 score: {:.10f}\".format(knn_f1))"
      ],
      "execution_count": null,
      "outputs": [
        {
          "output_type": "stream",
          "text": [
            "KNN ROC AOC Score: 0.6929824561\n",
            "KNN Accuracy Score: 0.6250000000\n",
            "KNN F1 score: 0.6341463415\n"
          ],
          "name": "stdout"
        }
      ]
    },
    {
      "cell_type": "code",
      "metadata": {
        "id": "R8-LqUoPb3Im"
      },
      "source": [
        "train_roc_auc = []\n",
        "train_acc = []\n",
        "train_f1 = []\n",
        "\n",
        "test_roc_auc = []\n",
        "test_acc = []\n",
        "test_f1 = []\n",
        "\n",
        "for i in range(200):\n",
        "  X_train_loop, X_test_loop, y_train_loop, y_test_loop = train_test_split(trainData.drop(trainData.columns[[0,12]], axis=1), trainData.quality, stratify=trainData.quality, test_size=0.1)\n",
        "  X_train_loop = normalizeData(X_train_loop)\n",
        "  X_test_loop = normalizeData(X_test_loop)\n",
        "\n",
        "  GNB = KNeighborsClassifier(n_neighbors=25, p=2, weights='distance')\n",
        "  GNB.fit(X_train_loop, y_train_loop)\n",
        "\n",
        "  y_pred = GNB.predict(X_train_loop)\n",
        "  y_pred_proba = GNB.predict_proba(X_train_loop)[:,1]\n",
        "\n",
        "  train_roc_auc.append(roc_auc_score(y_train_loop, y_pred_proba))\n",
        "  train_acc.append(accuracy_score(y_train_loop, y_pred))\n",
        "  train_f1.append(f1_score(y_train_loop, y_pred))\n",
        "\n",
        "  y_pred = GNB.predict(X_test_loop)\n",
        "  y_pred_proba = GNB.predict_proba(X_test_loop)[:,1]\n",
        "\n",
        "  test_roc_auc.append(roc_auc_score(y_test_loop, y_pred_proba))\n",
        "  test_acc.append(accuracy_score(y_test_loop, y_pred))\n",
        "  test_f1.append(f1_score(y_test_loop, y_pred))"
      ],
      "execution_count": null,
      "outputs": []
    },
    {
      "cell_type": "code",
      "metadata": {
        "colab": {
          "base_uri": "https://localhost:8080/",
          "height": 657
        },
        "id": "jBswCop-cGLv",
        "outputId": "4e71a531-076f-4aa3-d611-3332468ff2c3"
      },
      "source": [
        "f, axs = plt.subplots(2, 3, figsize=(15,9))\n",
        "axs[0,0].set_title(\"Train ROC\")\n",
        "axs[0,1].set_title(\"Train Accuracy\")\n",
        "axs[0,2].set_title(\"Train F1\")\n",
        "axs[1,0].set_title(\"Test ROC\")\n",
        "axs[1,1].set_title(\"Test Accuracy\")\n",
        "axs[1,2].set_title(\"Test F1\")\n",
        "sns.histplot(train_roc_auc, ax=axs[0,0]);\n",
        "sns.histplot(train_acc, ax=axs[0,1]);\n",
        "sns.histplot(train_f1, ax=axs[0,2]);\n",
        "sns.histplot(test_roc_auc, ax=axs[1,0]);\n",
        "sns.histplot(test_acc, ax=axs[1,1]);\n",
        "sns.histplot(test_f1, ax=axs[1,2]);\n",
        "f.tight_layout()"
      ],
      "execution_count": null,
      "outputs": [
        {
          "output_type": "display_data",
          "data": {
            "image/png": "[encoded data removed]",
            "text/plain": [
              "<Figure size 1080x648 with 6 Axes>"
            ]
          },
          "metadata": {
            "tags": [],
            "needs_background": "light"
          }
        }
      ]
    },
    {
      "cell_type": "code",
      "metadata": {
        "id": "pFU57e2qGKdz",
        "colab": {
          "base_uri": "https://localhost:8080/"
        },
        "outputId": "1d8d9401-5d5c-4cdf-d165-8f9bcc2bfbf5"
      },
      "source": [
        "X_real_test = testData.drop(testData.columns[[0]], axis=1)\n",
        "X_real_test.var()"
      ],
      "execution_count": null,
      "outputs": [
        {
          "output_type": "execute_result",
          "data": {
            "text/plain": [
              "fixed acidity              2.737951\n",
              "volatile acidity           0.031654\n",
              "citric acid                0.036012\n",
              "residual sugar             2.072202\n",
              "chlorides                  0.002297\n",
              "free sulfur dioxide      116.859227\n",
              "total sulfur dioxide    1112.288576\n",
              "density                    0.000004\n",
              "pH                         0.022538\n",
              "sulphates                  0.025443\n",
              "alcohol                    1.188475\n",
              "dtype: float64"
            ]
          },
          "metadata": {
            "tags": []
          },
          "execution_count": 346
        }
      ]
    },
    {
      "cell_type": "markdown",
      "metadata": {
        "id": "5PLmSTobywOQ"
      },
      "source": [
        "Just like we did with the train/test split, we must transform the test data with normalization."
      ]
    },
    {
      "cell_type": "code",
      "metadata": {
        "id": "1InA0JUqHFgf",
        "colab": {
          "base_uri": "https://localhost:8080/",
          "height": 297
        },
        "outputId": "a96b3fb4-1a31-45cb-b5fe-ba3a79e24dc1"
      },
      "source": [
        "X_real_test = normalizeData(X_real_test)\n",
        "X_real_test.describe()"
      ],
      "execution_count": null,
      "outputs": [
        {
          "output_type": "execute_result",
          "data": {
            "text/html": [
              "<div>\n",
              "<style scoped>\n",
              "    .dataframe tbody tr th:only-of-type {\n",
              "        vertical-align: middle;\n",
              "    }\n",
              "\n",
              "    .dataframe tbody tr th {\n",
              "        vertical-align: top;\n",
              "    }\n",
              "\n",
              "    .dataframe thead th {\n",
              "        text-align: right;\n",
              "    }\n",
              "</style>\n",
              "<table border=\"1\" class=\"dataframe\">\n",
              "  <thead>\n",
              "    <tr style=\"text-align: right;\">\n",
              "      <th></th>\n",
              "      <th>fixed acidity</th>\n",
              "      <th>volatile acidity</th>\n",
              "      <th>citric acid</th>\n",
              "      <th>residual sugar</th>\n",
              "      <th>chlorides</th>\n",
              "      <th>free sulfur dioxide</th>\n",
              "      <th>total sulfur dioxide</th>\n",
              "      <th>density</th>\n",
              "      <th>pH</th>\n",
              "      <th>sulphates</th>\n",
              "      <th>alcohol</th>\n",
              "    </tr>\n",
              "  </thead>\n",
              "  <tbody>\n",
              "    <tr>\n",
              "      <th>count</th>\n",
              "      <td>800.000000</td>\n",
              "      <td>800.000000</td>\n",
              "      <td>800.000000</td>\n",
              "      <td>800.000000</td>\n",
              "      <td>800.000000</td>\n",
              "      <td>800.000000</td>\n",
              "      <td>800.000000</td>\n",
              "      <td>800.000000</td>\n",
              "      <td>800.000000</td>\n",
              "      <td>800.000000</td>\n",
              "      <td>800.000000</td>\n",
              "    </tr>\n",
              "    <tr>\n",
              "      <th>mean</th>\n",
              "      <td>0.034663</td>\n",
              "      <td>0.522675</td>\n",
              "      <td>0.266750</td>\n",
              "      <td>0.030745</td>\n",
              "      <td>0.087060</td>\n",
              "      <td>0.029311</td>\n",
              "      <td>0.028708</td>\n",
              "      <td>0.996592</td>\n",
              "      <td>3.311925</td>\n",
              "      <td>0.652612</td>\n",
              "      <td>10.474250</td>\n",
              "    </tr>\n",
              "    <tr>\n",
              "      <th>std</th>\n",
              "      <td>0.006965</td>\n",
              "      <td>0.177914</td>\n",
              "      <td>0.189768</td>\n",
              "      <td>0.017468</td>\n",
              "      <td>0.047928</td>\n",
              "      <td>0.019783</td>\n",
              "      <td>0.020649</td>\n",
              "      <td>0.001872</td>\n",
              "      <td>0.150128</td>\n",
              "      <td>0.159507</td>\n",
              "      <td>1.090172</td>\n",
              "    </tr>\n",
              "    <tr>\n",
              "      <th>min</th>\n",
              "      <td>0.020625</td>\n",
              "      <td>0.120000</td>\n",
              "      <td>0.000000</td>\n",
              "      <td>0.010921</td>\n",
              "      <td>0.012000</td>\n",
              "      <td>0.001830</td>\n",
              "      <td>0.003715</td>\n",
              "      <td>0.990070</td>\n",
              "      <td>2.870000</td>\n",
              "      <td>0.330000</td>\n",
              "      <td>8.400000</td>\n",
              "    </tr>\n",
              "    <tr>\n",
              "      <th>25%</th>\n",
              "      <td>0.029885</td>\n",
              "      <td>0.390000</td>\n",
              "      <td>0.100000</td>\n",
              "      <td>0.023056</td>\n",
              "      <td>0.070000</td>\n",
              "      <td>0.012810</td>\n",
              "      <td>0.013621</td>\n",
              "      <td>0.995500</td>\n",
              "      <td>3.210000</td>\n",
              "      <td>0.550000</td>\n",
              "      <td>9.500000</td>\n",
              "    </tr>\n",
              "    <tr>\n",
              "      <th>50%</th>\n",
              "      <td>0.033253</td>\n",
              "      <td>0.520000</td>\n",
              "      <td>0.250000</td>\n",
              "      <td>0.026696</td>\n",
              "      <td>0.079000</td>\n",
              "      <td>0.023790</td>\n",
              "      <td>0.023528</td>\n",
              "      <td>0.996600</td>\n",
              "      <td>3.310000</td>\n",
              "      <td>0.620000</td>\n",
              "      <td>10.300000</td>\n",
              "    </tr>\n",
              "    <tr>\n",
              "      <th>75%</th>\n",
              "      <td>0.038304</td>\n",
              "      <td>0.630000</td>\n",
              "      <td>0.410000</td>\n",
              "      <td>0.031550</td>\n",
              "      <td>0.090000</td>\n",
              "      <td>0.040260</td>\n",
              "      <td>0.037149</td>\n",
              "      <td>0.997740</td>\n",
              "      <td>3.400000</td>\n",
              "      <td>0.722500</td>\n",
              "      <td>11.200000</td>\n",
              "    </tr>\n",
              "    <tr>\n",
              "      <th>max</th>\n",
              "      <td>0.066926</td>\n",
              "      <td>1.330000</td>\n",
              "      <td>0.790000</td>\n",
              "      <td>0.167456</td>\n",
              "      <td>0.611000</td>\n",
              "      <td>0.131761</td>\n",
              "      <td>0.178934</td>\n",
              "      <td>1.003150</td>\n",
              "      <td>4.010000</td>\n",
              "      <td>1.950000</td>\n",
              "      <td>14.900000</td>\n",
              "    </tr>\n",
              "  </tbody>\n",
              "</table>\n",
              "</div>"
            ],
            "text/plain": [
              "       fixed acidity  volatile acidity  citric acid  residual sugar  \\\n",
              "count     800.000000        800.000000   800.000000      800.000000   \n",
              "mean        0.034663          0.522675     0.266750        0.030745   \n",
              "std         0.006965          0.177914     0.189768        0.017468   \n",
              "min         0.020625          0.120000     0.000000        0.010921   \n",
              "25%         0.029885          0.390000     0.100000        0.023056   \n",
              "50%         0.033253          0.520000     0.250000        0.026696   \n",
              "75%         0.038304          0.630000     0.410000        0.031550   \n",
              "max         0.066926          1.330000     0.790000        0.167456   \n",
              "\n",
              "        chlorides  free sulfur dioxide  total sulfur dioxide     density  \\\n",
              "count  800.000000           800.000000            800.000000  800.000000   \n",
              "mean     0.087060             0.029311              0.028708    0.996592   \n",
              "std      0.047928             0.019783              0.020649    0.001872   \n",
              "min      0.012000             0.001830              0.003715    0.990070   \n",
              "25%      0.070000             0.012810              0.013621    0.995500   \n",
              "50%      0.079000             0.023790              0.023528    0.996600   \n",
              "75%      0.090000             0.040260              0.037149    0.997740   \n",
              "max      0.611000             0.131761              0.178934    1.003150   \n",
              "\n",
              "               pH   sulphates     alcohol  \n",
              "count  800.000000  800.000000  800.000000  \n",
              "mean     3.311925    0.652612   10.474250  \n",
              "std      0.150128    0.159507    1.090172  \n",
              "min      2.870000    0.330000    8.400000  \n",
              "25%      3.210000    0.550000    9.500000  \n",
              "50%      3.310000    0.620000   10.300000  \n",
              "75%      3.400000    0.722500   11.200000  \n",
              "max      4.010000    1.950000   14.900000  "
            ]
          },
          "metadata": {
            "tags": []
          },
          "execution_count": 347
        }
      ]
    },
    {
      "cell_type": "markdown",
      "metadata": {
        "id": "zmAffpJT-R0j"
      },
      "source": [
        "Printing out the results of our predictions for the real test data. Output should be identical to my most recent submission on kaggle."
      ]
    },
    {
      "cell_type": "code",
      "metadata": {
        "id": "fUFcOJmcHGri",
        "colab": {
          "base_uri": "https://localhost:8080/"
        },
        "outputId": "66b7fda4-81ba-446b-9f13-f266f0b866a7"
      },
      "source": [
        "y_pred_real_test = grid_knn.predict(X_real_test)\n",
        "y_pred_real_test"
      ],
      "execution_count": null,
      "outputs": [
        {
          "output_type": "execute_result",
          "data": {
            "text/plain": [
              "array([0, 0, 0, 1, 1, 1, 1, 1, 0, 0, 0, 1, 0, 1, 1, 0, 0, 0, 0, 0, 1, 1,\n",
              "       0, 0, 0, 0, 0, 0, 0, 0, 0, 1, 1, 0, 0, 0, 0, 0, 0, 0, 0, 0, 1, 0,\n",
              "       0, 1, 1, 0, 0, 0, 0, 0, 1, 0, 0, 1, 1, 0, 1, 1, 0, 1, 1, 1, 0, 1,\n",
              "       1, 0, 1, 1, 1, 0, 0, 1, 0, 1, 1, 0, 0, 1, 0, 0, 1, 0, 0, 0, 0, 1,\n",
              "       1, 0, 0, 1, 0, 0, 0, 0, 1, 1, 1, 0, 0, 1, 0, 1, 1, 0, 0, 0, 1, 0,\n",
              "       1, 0, 1, 1, 1, 1, 1, 1, 0, 0, 1, 0, 0, 1, 0, 0, 1, 1, 1, 0, 0, 0,\n",
              "       0, 1, 1, 0, 1, 1, 1, 1, 0, 0, 0, 0, 1, 1, 0, 0, 0, 1, 0, 1, 1, 1,\n",
              "       0, 1, 1, 1, 0, 0, 0, 1, 0, 1, 1, 1, 0, 1, 0, 0, 0, 1, 1, 0, 0, 0,\n",
              "       1, 0, 1, 1, 0, 0, 1, 1, 1, 1, 1, 0, 1, 1, 1, 0, 1, 1, 0, 1, 0, 0,\n",
              "       1, 1, 1, 1, 0, 1, 1, 1, 0, 1, 1, 1, 0, 0, 0, 0, 0, 0, 1, 0, 0, 1,\n",
              "       1, 0, 0, 0, 1, 1, 1, 0, 1, 0, 1, 1, 0, 1, 1, 0, 1, 0, 0, 1, 1, 1,\n",
              "       1, 1, 1, 0, 1, 1, 1, 1, 0, 0, 0, 1, 0, 1, 1, 0, 0, 0, 1, 0, 0, 1,\n",
              "       1, 0, 0, 1, 0, 1, 0, 0, 1, 1, 1, 1, 1, 1, 1, 0, 1, 0, 0, 0, 0, 1,\n",
              "       0, 0, 1, 0, 0, 1, 0, 0, 1, 1, 0, 1, 0, 1, 0, 1, 0, 0, 1, 0, 1, 0,\n",
              "       1, 0, 1, 0, 0, 0, 0, 1, 0, 1, 0, 0, 1, 0, 1, 1, 0, 1, 0, 0, 0, 0,\n",
              "       1, 0, 1, 0, 1, 1, 1, 0, 1, 1, 0, 0, 0, 0, 0, 0, 1, 0, 0, 1, 1, 0,\n",
              "       0, 0, 1, 0, 0, 1, 1, 0, 1, 1, 0, 0, 1, 0, 1, 0, 0, 1, 1, 1, 0, 1,\n",
              "       0, 0, 0, 1, 1, 0, 1, 1, 1, 1, 1, 0, 1, 0, 1, 0, 1, 0, 0, 0, 1, 1,\n",
              "       0, 1, 0, 0, 0, 1, 1, 1, 0, 1, 0, 1, 0, 0, 0, 0, 0, 0, 1, 1, 0, 1,\n",
              "       0, 1, 1, 1, 1, 1, 1, 0, 0, 0, 0, 0, 0, 0, 0, 0, 0, 1, 0, 0, 1, 0,\n",
              "       1, 1, 1, 0, 0, 1, 0, 0, 0, 0, 0, 0, 1, 0, 1, 0, 1, 1, 1, 1, 1, 1,\n",
              "       0, 1, 1, 1, 1, 1, 1, 1, 1, 0, 0, 1, 1, 1, 1, 0, 0, 1, 1, 0, 0, 1,\n",
              "       0, 0, 1, 1, 1, 1, 1, 0, 1, 1, 1, 0, 0, 0, 1, 1, 1, 1, 0, 1, 1, 1,\n",
              "       1, 0, 1, 1, 1, 1, 1, 0, 1, 0, 0, 0, 1, 1, 1, 0, 0, 1, 0, 0, 0, 0,\n",
              "       1, 1, 1, 0, 0, 0, 1, 1, 1, 1, 0, 1, 0, 0, 0, 1, 0, 0, 1, 1, 0, 0,\n",
              "       1, 1, 1, 1, 1, 0, 1, 0, 1, 1, 0, 1, 0, 0, 0, 1, 1, 1, 1, 0, 1, 0,\n",
              "       1, 1, 1, 1, 1, 1, 0, 0, 0, 0, 1, 0, 1, 0, 0, 0, 1, 1, 0, 0, 1, 0,\n",
              "       0, 1, 1, 1, 1, 1, 1, 1, 1, 1, 0, 0, 1, 0, 0, 1, 1, 0, 1, 0, 0, 1,\n",
              "       0, 1, 0, 0, 0, 0, 1, 1, 0, 1, 1, 0, 0, 0, 1, 0, 1, 1, 0, 1, 1, 1,\n",
              "       1, 0, 1, 0, 0, 1, 0, 1, 0, 1, 1, 0, 0, 1, 1, 1, 0, 1, 1, 0, 1, 1,\n",
              "       1, 1, 1, 1, 1, 0, 1, 0, 1, 1, 0, 1, 1, 0, 1, 1, 1, 1, 0, 0, 1, 0,\n",
              "       0, 0, 1, 1, 1, 1, 0, 1, 1, 1, 0, 0, 0, 1, 1, 1, 0, 0, 0, 1, 0, 1,\n",
              "       0, 1, 0, 0, 1, 0, 1, 1, 0, 0, 0, 0, 1, 1, 0, 1, 1, 1, 1, 1, 1, 1,\n",
              "       1, 0, 1, 0, 1, 0, 1, 1, 1, 1, 0, 1, 0, 0, 0, 1, 0, 0, 1, 1, 1, 1,\n",
              "       0, 1, 0, 1, 1, 0, 1, 1, 0, 0, 1, 0, 1, 0, 1, 1, 0, 1, 1, 0, 1, 1,\n",
              "       1, 0, 1, 1, 1, 1, 0, 0, 0, 0, 1, 1, 0, 1, 1, 0, 0, 1, 0, 1, 1, 1,\n",
              "       1, 0, 1, 0, 1, 1, 1, 0])"
            ]
          },
          "metadata": {
            "tags": []
          },
          "execution_count": 348
        }
      ]
    },
    {
      "cell_type": "markdown",
      "metadata": {
        "id": "WwxJ2sNThpz_"
      },
      "source": [
        "Convert to a dataframe and convert to a csv."
      ]
    },
    {
      "cell_type": "code",
      "metadata": {
        "id": "6CsJbOfaLy6F"
      },
      "source": [
        "df = pd.DataFrame({'id': testData.id, 'quality':y_pred_real_test.tolist()})\n",
        "df.to_csv('assignment2.csv', index=False)\n",
        "pd.set_option('display.max_columns', None)\n",
        "pd.set_option('display.max_rows', None)\n",
        "df"
      ],
      "execution_count": null,
      "outputs": []
    }
  ]
}