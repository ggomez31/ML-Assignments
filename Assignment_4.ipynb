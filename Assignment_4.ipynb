{
  "nbformat": 4,
  "nbformat_minor": 0,
  "metadata": {
    "colab": {
      "name": "Assignment 4.ipynb",
      "provenance": [],
      "collapsed_sections": [],
      "authorship_tag": "ABX9TyNZsw+iQoUCdJOJFzeA8Pop",
      "include_colab_link": true
    },
    "kernelspec": {
      "name": "python3",
      "display_name": "Python 3"
    },
    "language_info": {
      "name": "python"
    }
  },
  "cells": [
    {
      "cell_type": "markdown",
      "metadata": {
        "id": "view-in-github",
        "colab_type": "text"
      },
      "source": [
        "<a href=\"https://colab.research.google.com/github/ggomez31/ML-Assignments/blob/main/Assignment_4.ipynb\" target=\"_parent\"><img src=\"https://colab.research.google.com/assets/colab-badge.svg\" alt=\"Open In Colab\"/></a>"
      ]
    },
    {
      "cell_type": "code",
      "metadata": {
        "id": "Hb0CGt11bR4T"
      },
      "source": [
        "import pandas as pd\n",
        "import seaborn as sns\n",
        "import matplotlib.pyplot as plt\n",
        "import numpy as np\n",
        "from google.colab import files\n",
        "from sklearn.model_selection import train_test_split\n",
        "from sklearn.linear_model import LinearRegression, Ridge, Lasso, ElasticNet\n",
        "from sklearn.metrics import roc_auc_score, accuracy_score, f1_score, mean_squared_error\n",
        "from sklearn.model_selection import GridSearchCV\n",
        "from sklearn.preprocessing import normalize, StandardScaler, MinMaxScaler\n",
        "import io"
      ],
      "execution_count": null,
      "outputs": []
    },
    {
      "cell_type": "code",
      "metadata": {
        "id": "HloNUqpXwv4T",
        "colab": {
          "resources": {
            "http://localhost:8080/nbextensions/google.colab/files.js": {
              "data": "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",
              "ok": true,
              "headers": [
                [
                  "content-type",
                  "application/javascript"
                ]
              ],
              "status": 200,
              "status_text": ""
            }
          },
          "base_uri": "https://localhost:8080/",
          "height": 106
        },
        "outputId": "5ef5628e-fcce-49bb-e3c6-db7228b38b26"
      },
      "source": [
        "uploaded = files.upload()"
      ],
      "execution_count": null,
      "outputs": [
        {
          "output_type": "display_data",
          "data": {
            "text/html": [
              "\n",
              "     <input type=\"file\" id=\"files-e6ed3208-95a1-4df8-9a62-aed21a2471d3\" name=\"files[]\" multiple disabled\n",
              "        style=\"border:none\" />\n",
              "     <output id=\"result-e6ed3208-95a1-4df8-9a62-aed21a2471d3\">\n",
              "      Upload widget is only available when the cell has been executed in the\n",
              "      current browser session. Please rerun this cell to enable.\n",
              "      </output>\n",
              "      <script src=\"/nbextensions/google.colab/files.js\"></script> "
            ],
            "text/plain": [
              "<IPython.core.display.HTML object>"
            ]
          },
          "metadata": {
            "tags": []
          }
        },
        {
          "output_type": "stream",
          "text": [
            "Saving test.csv to test.csv\n",
            "Saving train.csv to train.csv\n"
          ],
          "name": "stdout"
        }
      ]
    },
    {
      "cell_type": "code",
      "metadata": {
        "id": "VnV4fAcRwzfC"
      },
      "source": [
        "trainData = pd.read_csv('train.csv')\n",
        "testData = pd.read_csv('test.csv')"
      ],
      "execution_count": null,
      "outputs": []
    },
    {
      "cell_type": "markdown",
      "metadata": {
        "id": "jzb02wor--BG"
      },
      "source": [
        "total_bedrooms column contains missing values."
      ]
    },
    {
      "cell_type": "code",
      "metadata": {
        "id": "b5shnoRyw40c",
        "colab": {
          "base_uri": "https://localhost:8080/"
        },
        "outputId": "a244313a-461c-4be8-933a-2257b1e43eec"
      },
      "source": [
        "trainData.info()"
      ],
      "execution_count": null,
      "outputs": [
        {
          "output_type": "stream",
          "text": [
            "<class 'pandas.core.frame.DataFrame'>\n",
            "RangeIndex: 10320 entries, 0 to 10319\n",
            "Data columns (total 11 columns):\n",
            " #   Column              Non-Null Count  Dtype  \n",
            "---  ------              --------------  -----  \n",
            " 0   id                  10320 non-null  int64  \n",
            " 1   longitude           10320 non-null  float64\n",
            " 2   latitude            10320 non-null  float64\n",
            " 3   housing_median_age  10320 non-null  float64\n",
            " 4   total_rooms         10320 non-null  float64\n",
            " 5   total_bedrooms      10210 non-null  float64\n",
            " 6   population          10320 non-null  float64\n",
            " 7   households          10320 non-null  float64\n",
            " 8   median_income       10320 non-null  float64\n",
            " 9   ocean_proximity     10320 non-null  object \n",
            " 10  median_house_value  10320 non-null  float64\n",
            "dtypes: float64(9), int64(1), object(1)\n",
            "memory usage: 887.0+ KB\n"
          ],
          "name": "stdout"
        }
      ]
    },
    {
      "cell_type": "code",
      "metadata": {
        "colab": {
          "base_uri": "https://localhost:8080/",
          "height": 297
        },
        "id": "WCtJzdqgooXo",
        "outputId": "11b7339c-4986-4450-93c1-176e36354526"
      },
      "source": [
        "trainData.describe()"
      ],
      "execution_count": null,
      "outputs": [
        {
          "output_type": "execute_result",
          "data": {
            "text/html": [
              "<div>\n",
              "<style scoped>\n",
              "    .dataframe tbody tr th:only-of-type {\n",
              "        vertical-align: middle;\n",
              "    }\n",
              "\n",
              "    .dataframe tbody tr th {\n",
              "        vertical-align: top;\n",
              "    }\n",
              "\n",
              "    .dataframe thead th {\n",
              "        text-align: right;\n",
              "    }\n",
              "</style>\n",
              "<table border=\"1\" class=\"dataframe\">\n",
              "  <thead>\n",
              "    <tr style=\"text-align: right;\">\n",
              "      <th></th>\n",
              "      <th>id</th>\n",
              "      <th>longitude</th>\n",
              "      <th>latitude</th>\n",
              "      <th>housing_median_age</th>\n",
              "      <th>total_rooms</th>\n",
              "      <th>total_bedrooms</th>\n",
              "      <th>population</th>\n",
              "      <th>households</th>\n",
              "      <th>median_income</th>\n",
              "      <th>median_house_value</th>\n",
              "    </tr>\n",
              "  </thead>\n",
              "  <tbody>\n",
              "    <tr>\n",
              "      <th>count</th>\n",
              "      <td>10320.000000</td>\n",
              "      <td>10320.000000</td>\n",
              "      <td>10320.000000</td>\n",
              "      <td>10320.000000</td>\n",
              "      <td>10320.000000</td>\n",
              "      <td>10210.000000</td>\n",
              "      <td>10320.000000</td>\n",
              "      <td>10320.000000</td>\n",
              "      <td>10320.000000</td>\n",
              "      <td>10320.000000</td>\n",
              "    </tr>\n",
              "    <tr>\n",
              "      <th>mean</th>\n",
              "      <td>5159.500000</td>\n",
              "      <td>-119.593791</td>\n",
              "      <td>35.647997</td>\n",
              "      <td>28.544477</td>\n",
              "      <td>2652.874031</td>\n",
              "      <td>541.297845</td>\n",
              "      <td>1431.618120</td>\n",
              "      <td>502.993605</td>\n",
              "      <td>3.882051</td>\n",
              "      <td>208222.779845</td>\n",
              "    </tr>\n",
              "    <tr>\n",
              "      <th>std</th>\n",
              "      <td>2979.271723</td>\n",
              "      <td>2.005209</td>\n",
              "      <td>2.132319</td>\n",
              "      <td>12.605356</td>\n",
              "      <td>2215.969393</td>\n",
              "      <td>427.866565</td>\n",
              "      <td>1144.035957</td>\n",
              "      <td>388.016806</td>\n",
              "      <td>1.902330</td>\n",
              "      <td>116152.666840</td>\n",
              "    </tr>\n",
              "    <tr>\n",
              "      <th>min</th>\n",
              "      <td>0.000000</td>\n",
              "      <td>-124.350000</td>\n",
              "      <td>32.540000</td>\n",
              "      <td>1.000000</td>\n",
              "      <td>6.000000</td>\n",
              "      <td>2.000000</td>\n",
              "      <td>8.000000</td>\n",
              "      <td>2.000000</td>\n",
              "      <td>0.499900</td>\n",
              "      <td>14999.000000</td>\n",
              "    </tr>\n",
              "    <tr>\n",
              "      <th>25%</th>\n",
              "      <td>2579.750000</td>\n",
              "      <td>-121.810000</td>\n",
              "      <td>33.940000</td>\n",
              "      <td>18.000000</td>\n",
              "      <td>1461.000000</td>\n",
              "      <td>294.250000</td>\n",
              "      <td>786.000000</td>\n",
              "      <td>278.000000</td>\n",
              "      <td>2.583300</td>\n",
              "      <td>120000.000000</td>\n",
              "    </tr>\n",
              "    <tr>\n",
              "      <th>50%</th>\n",
              "      <td>5159.500000</td>\n",
              "      <td>-118.535000</td>\n",
              "      <td>34.270000</td>\n",
              "      <td>29.000000</td>\n",
              "      <td>2138.000000</td>\n",
              "      <td>438.000000</td>\n",
              "      <td>1165.000000</td>\n",
              "      <td>413.000000</td>\n",
              "      <td>3.550000</td>\n",
              "      <td>180700.000000</td>\n",
              "    </tr>\n",
              "    <tr>\n",
              "      <th>75%</th>\n",
              "      <td>7739.250000</td>\n",
              "      <td>-118.010000</td>\n",
              "      <td>37.720000</td>\n",
              "      <td>37.000000</td>\n",
              "      <td>3144.250000</td>\n",
              "      <td>648.750000</td>\n",
              "      <td>1724.000000</td>\n",
              "      <td>607.000000</td>\n",
              "      <td>4.733575</td>\n",
              "      <td>267225.000000</td>\n",
              "    </tr>\n",
              "    <tr>\n",
              "      <th>max</th>\n",
              "      <td>10319.000000</td>\n",
              "      <td>-114.550000</td>\n",
              "      <td>41.920000</td>\n",
              "      <td>52.000000</td>\n",
              "      <td>39320.000000</td>\n",
              "      <td>6445.000000</td>\n",
              "      <td>28566.000000</td>\n",
              "      <td>6082.000000</td>\n",
              "      <td>15.000100</td>\n",
              "      <td>500001.000000</td>\n",
              "    </tr>\n",
              "  </tbody>\n",
              "</table>\n",
              "</div>"
            ],
            "text/plain": [
              "                 id     longitude  ...  median_income  median_house_value\n",
              "count  10320.000000  10320.000000  ...   10320.000000        10320.000000\n",
              "mean    5159.500000   -119.593791  ...       3.882051       208222.779845\n",
              "std     2979.271723      2.005209  ...       1.902330       116152.666840\n",
              "min        0.000000   -124.350000  ...       0.499900        14999.000000\n",
              "25%     2579.750000   -121.810000  ...       2.583300       120000.000000\n",
              "50%     5159.500000   -118.535000  ...       3.550000       180700.000000\n",
              "75%     7739.250000   -118.010000  ...       4.733575       267225.000000\n",
              "max    10319.000000   -114.550000  ...      15.000100       500001.000000\n",
              "\n",
              "[8 rows x 10 columns]"
            ]
          },
          "metadata": {
            "tags": []
          },
          "execution_count": 5
        }
      ]
    },
    {
      "cell_type": "markdown",
      "metadata": {
        "id": "fqBetJPmodoK"
      },
      "source": [
        "Viewing the distribution of our target vector."
      ]
    },
    {
      "cell_type": "code",
      "metadata": {
        "colab": {
          "base_uri": "https://localhost:8080/",
          "height": 297
        },
        "id": "ygcUflhdoI8W",
        "outputId": "45614e6a-059f-45ee-861f-783419994e1f"
      },
      "source": [
        "sns.histplot(trainData.median_house_value)"
      ],
      "execution_count": null,
      "outputs": [
        {
          "output_type": "execute_result",
          "data": {
            "text/plain": [
              "<matplotlib.axes._subplots.AxesSubplot at 0x7f320a618750>"
            ]
          },
          "metadata": {
            "tags": []
          },
          "execution_count": 6
        },
        {
          "output_type": "display_data",
          "data": {
            "image/png": "[encoded data removed]",
            "text/plain": [
              "<Figure size 432x288 with 1 Axes>"
            ]
          },
          "metadata": {
            "tags": [],
            "needs_background": "light"
          }
        }
      ]
    },
    {
      "cell_type": "code",
      "metadata": {
        "colab": {
          "base_uri": "https://localhost:8080/",
          "height": 443
        },
        "id": "fSYf4uBMojhy",
        "outputId": "225bd954-7cfe-4226-fe88-01aaba1efff8"
      },
      "source": [
        "trainData.boxplot(figsize=(60,15))\n",
        "plt.show()"
      ],
      "execution_count": null,
      "outputs": [
        {
          "output_type": "stream",
          "text": [
            "/usr/local/lib/python3.7/dist-packages/numpy/core/_asarray.py:83: VisibleDeprecationWarning: Creating an ndarray from ragged nested sequences (which is a list-or-tuple of lists-or-tuples-or ndarrays with different lengths or shapes) is deprecated. If you meant to do this, you must specify 'dtype=object' when creating the ndarray\n",
            "  return array(a, dtype, copy=False, order=order)\n"
          ],
          "name": "stderr"
        },
        {
          "output_type": "display_data",
          "data": {
            "image/png": "[encoded data removed]",
            "text/plain": [
              "<Figure size 4320x1080 with 1 Axes>"
            ]
          },
          "metadata": {
            "tags": [],
            "needs_background": "light"
          }
        }
      ]
    },
    {
      "cell_type": "code",
      "metadata": {
        "colab": {
          "base_uri": "https://localhost:8080/"
        },
        "id": "D3O4_31Dqw7F",
        "outputId": "56dd4422-072b-449c-bf2c-77383be47f4f"
      },
      "source": [
        "print(trainData['ocean_proximity'].value_counts())"
      ],
      "execution_count": null,
      "outputs": [
        {
          "output_type": "stream",
          "text": [
            "<1H OCEAN     4566\n",
            "INLAND        3248\n",
            "NEAR OCEAN    1329\n",
            "NEAR BAY      1175\n",
            "ISLAND           2\n",
            "Name: ocean_proximity, dtype: int64\n"
          ],
          "name": "stdout"
        }
      ]
    },
    {
      "cell_type": "code",
      "metadata": {
        "id": "yER1z4wn76_u"
      },
      "source": [
        "dummy_list = [\"ocean_proximity\"]"
      ],
      "execution_count": null,
      "outputs": []
    },
    {
      "cell_type": "code",
      "metadata": {
        "id": "GSe1PFHi74S6"
      },
      "source": [
        "def dummify(df, dummy_list):\n",
        "    for x in dummy_list:\n",
        "        dummies = pd.get_dummies(df[x], prefix=x, dummy_na=False)\n",
        "        df = df.drop(x,1)\n",
        "        df = pd.concat([df,dummies], axis=1)\n",
        "    return df"
      ],
      "execution_count": null,
      "outputs": []
    },
    {
      "cell_type": "code",
      "metadata": {
        "id": "nf6tsYwSNvOn"
      },
      "source": [
        "trainData = dummify(trainData, dummy_list)"
      ],
      "execution_count": null,
      "outputs": []
    },
    {
      "cell_type": "code",
      "metadata": {
        "colab": {
          "base_uri": "https://localhost:8080/"
        },
        "id": "c1yD7sGVp2rW",
        "outputId": "25e86834-fbc3-4b23-f200-cac01019c51c"
      },
      "source": [
        "trainData.info()"
      ],
      "execution_count": null,
      "outputs": [
        {
          "output_type": "stream",
          "text": [
            "<class 'pandas.core.frame.DataFrame'>\n",
            "RangeIndex: 10320 entries, 0 to 10319\n",
            "Data columns (total 15 columns):\n",
            " #   Column                      Non-Null Count  Dtype  \n",
            "---  ------                      --------------  -----  \n",
            " 0   id                          10320 non-null  int64  \n",
            " 1   longitude                   10320 non-null  float64\n",
            " 2   latitude                    10320 non-null  float64\n",
            " 3   housing_median_age          10320 non-null  float64\n",
            " 4   total_rooms                 10320 non-null  float64\n",
            " 5   total_bedrooms              10210 non-null  float64\n",
            " 6   population                  10320 non-null  float64\n",
            " 7   households                  10320 non-null  float64\n",
            " 8   median_income               10320 non-null  float64\n",
            " 9   median_house_value          10320 non-null  float64\n",
            " 10  ocean_proximity_<1H OCEAN   10320 non-null  uint8  \n",
            " 11  ocean_proximity_INLAND      10320 non-null  uint8  \n",
            " 12  ocean_proximity_ISLAND      10320 non-null  uint8  \n",
            " 13  ocean_proximity_NEAR BAY    10320 non-null  uint8  \n",
            " 14  ocean_proximity_NEAR OCEAN  10320 non-null  uint8  \n",
            "dtypes: float64(9), int64(1), uint8(5)\n",
            "memory usage: 856.8 KB\n"
          ],
          "name": "stdout"
        }
      ]
    },
    {
      "cell_type": "code",
      "metadata": {
        "id": "KAbX4LjYgNZU"
      },
      "source": [
        "def normalizeData(data):\n",
        "  cols = ['longitude','latitude']\n",
        "  for col in cols:\n",
        "    data[col] = MinMaxScaler().fit_transform(np.array(data[col]).reshape(-1,1))\n",
        "  return data"
      ],
      "execution_count": null,
      "outputs": []
    },
    {
      "cell_type": "code",
      "metadata": {
        "id": "h2Mr0tmG-x44"
      },
      "source": [
        "def standardizeData(data):\n",
        "  cols = ['longitude', 'latitude','total_rooms','total_bedrooms', 'population', 'households', 'median_income']\n",
        "  for col in cols:\n",
        "    data[col] = StandardScaler().fit_transform(np.array(data[col]).reshape(-1,1))\n",
        "  return data"
      ],
      "execution_count": null,
      "outputs": []
    },
    {
      "cell_type": "code",
      "metadata": {
        "id": "cIBepdYhH76x"
      },
      "source": [
        "X_train, X_test, y_train, y_test = train_test_split(trainData.drop(trainData.columns[[0,9]], axis=1), trainData.median_house_value, test_size=0.33)"
      ],
      "execution_count": null,
      "outputs": []
    },
    {
      "cell_type": "code",
      "metadata": {
        "id": "kJiwjW3e9wtC",
        "colab": {
          "base_uri": "https://localhost:8080/",
          "height": 334
        },
        "outputId": "82d59633-b5ff-423d-f165-97c482a3230b"
      },
      "source": [
        "X_train['total_bedrooms'] = X_train['total_bedrooms'].fillna((X_train['total_bedrooms'].median()))\n",
        "X_test['total_bedrooms'] = X_test['total_bedrooms'].fillna((X_test['total_bedrooms'].median()))\n",
        "X_train = standardizeData(X_train)\n",
        "X_test = standardizeData(X_test)\n",
        "X_train.describe()"
      ],
      "execution_count": null,
      "outputs": [
        {
          "output_type": "execute_result",
          "data": {
            "text/html": [
              "<div>\n",
              "<style scoped>\n",
              "    .dataframe tbody tr th:only-of-type {\n",
              "        vertical-align: middle;\n",
              "    }\n",
              "\n",
              "    .dataframe tbody tr th {\n",
              "        vertical-align: top;\n",
              "    }\n",
              "\n",
              "    .dataframe thead th {\n",
              "        text-align: right;\n",
              "    }\n",
              "</style>\n",
              "<table border=\"1\" class=\"dataframe\">\n",
              "  <thead>\n",
              "    <tr style=\"text-align: right;\">\n",
              "      <th></th>\n",
              "      <th>longitude</th>\n",
              "      <th>latitude</th>\n",
              "      <th>housing_median_age</th>\n",
              "      <th>total_rooms</th>\n",
              "      <th>total_bedrooms</th>\n",
              "      <th>population</th>\n",
              "      <th>households</th>\n",
              "      <th>median_income</th>\n",
              "      <th>ocean_proximity_&lt;1H OCEAN</th>\n",
              "      <th>ocean_proximity_INLAND</th>\n",
              "      <th>ocean_proximity_ISLAND</th>\n",
              "      <th>ocean_proximity_NEAR BAY</th>\n",
              "      <th>ocean_proximity_NEAR OCEAN</th>\n",
              "    </tr>\n",
              "  </thead>\n",
              "  <tbody>\n",
              "    <tr>\n",
              "      <th>count</th>\n",
              "      <td>6.914000e+03</td>\n",
              "      <td>6.914000e+03</td>\n",
              "      <td>6914.000000</td>\n",
              "      <td>6.914000e+03</td>\n",
              "      <td>6.914000e+03</td>\n",
              "      <td>6.914000e+03</td>\n",
              "      <td>6.914000e+03</td>\n",
              "      <td>6.914000e+03</td>\n",
              "      <td>6914.000000</td>\n",
              "      <td>6914.000000</td>\n",
              "      <td>6914.000000</td>\n",
              "      <td>6914.000000</td>\n",
              "      <td>6914.000000</td>\n",
              "    </tr>\n",
              "    <tr>\n",
              "      <th>mean</th>\n",
              "      <td>-2.641477e-15</td>\n",
              "      <td>-1.095787e-15</td>\n",
              "      <td>28.578826</td>\n",
              "      <td>-5.819277e-17</td>\n",
              "      <td>-1.121463e-16</td>\n",
              "      <td>-4.508976e-17</td>\n",
              "      <td>7.797574e-17</td>\n",
              "      <td>-1.392516e-16</td>\n",
              "      <td>0.443882</td>\n",
              "      <td>0.314001</td>\n",
              "      <td>0.000145</td>\n",
              "      <td>0.115707</td>\n",
              "      <td>0.126266</td>\n",
              "    </tr>\n",
              "    <tr>\n",
              "      <th>std</th>\n",
              "      <td>1.000072e+00</td>\n",
              "      <td>1.000072e+00</td>\n",
              "      <td>12.646123</td>\n",
              "      <td>1.000072e+00</td>\n",
              "      <td>1.000072e+00</td>\n",
              "      <td>1.000072e+00</td>\n",
              "      <td>1.000072e+00</td>\n",
              "      <td>1.000072e+00</td>\n",
              "      <td>0.496877</td>\n",
              "      <td>0.464150</td>\n",
              "      <td>0.012026</td>\n",
              "      <td>0.319897</td>\n",
              "      <td>0.332172</td>\n",
              "    </tr>\n",
              "    <tr>\n",
              "      <th>min</th>\n",
              "      <td>-2.370682e+00</td>\n",
              "      <td>-1.462464e+00</td>\n",
              "      <td>1.000000</td>\n",
              "      <td>-1.229028e+00</td>\n",
              "      <td>-1.281560e+00</td>\n",
              "      <td>-1.247448e+00</td>\n",
              "      <td>-1.309527e+00</td>\n",
              "      <td>-1.782382e+00</td>\n",
              "      <td>0.000000</td>\n",
              "      <td>0.000000</td>\n",
              "      <td>0.000000</td>\n",
              "      <td>0.000000</td>\n",
              "      <td>0.000000</td>\n",
              "    </tr>\n",
              "    <tr>\n",
              "      <th>25%</th>\n",
              "      <td>-1.105858e+00</td>\n",
              "      <td>-8.074832e-01</td>\n",
              "      <td>18.000000</td>\n",
              "      <td>-5.428295e-01</td>\n",
              "      <td>-5.730443e-01</td>\n",
              "      <td>-5.606755e-01</td>\n",
              "      <td>-5.825520e-01</td>\n",
              "      <td>-6.774885e-01</td>\n",
              "      <td>0.000000</td>\n",
              "      <td>0.000000</td>\n",
              "      <td>0.000000</td>\n",
              "      <td>0.000000</td>\n",
              "      <td>0.000000</td>\n",
              "    </tr>\n",
              "    <tr>\n",
              "      <th>50%</th>\n",
              "      <td>5.239164e-01</td>\n",
              "      <td>-6.484163e-01</td>\n",
              "      <td>28.000000</td>\n",
              "      <td>-2.278474e-01</td>\n",
              "      <td>-2.343979e-01</td>\n",
              "      <td>-2.296478e-01</td>\n",
              "      <td>-2.256495e-01</td>\n",
              "      <td>-1.658680e-01</td>\n",
              "      <td>0.000000</td>\n",
              "      <td>0.000000</td>\n",
              "      <td>0.000000</td>\n",
              "      <td>0.000000</td>\n",
              "      <td>0.000000</td>\n",
              "    </tr>\n",
              "    <tr>\n",
              "      <th>75%</th>\n",
              "      <td>7.888797e-01</td>\n",
              "      <td>9.609663e-01</td>\n",
              "      <td>37.000000</td>\n",
              "      <td>2.288355e-01</td>\n",
              "      <td>2.507551e-01</td>\n",
              "      <td>2.585076e-01</td>\n",
              "      <td>2.734872e-01</td>\n",
              "      <td>4.471388e-01</td>\n",
              "      <td>1.000000</td>\n",
              "      <td>1.000000</td>\n",
              "      <td>0.000000</td>\n",
              "      <td>0.000000</td>\n",
              "      <td>0.000000</td>\n",
              "    </tr>\n",
              "    <tr>\n",
              "      <th>max</th>\n",
              "      <td>2.528639e+00</td>\n",
              "      <td>2.925910e+00</td>\n",
              "      <td>52.000000</td>\n",
              "      <td>1.408969e+01</td>\n",
              "      <td>1.419290e+01</td>\n",
              "      <td>2.396185e+01</td>\n",
              "      <td>1.470499e+01</td>\n",
              "      <td>5.899514e+00</td>\n",
              "      <td>1.000000</td>\n",
              "      <td>1.000000</td>\n",
              "      <td>1.000000</td>\n",
              "      <td>1.000000</td>\n",
              "      <td>1.000000</td>\n",
              "    </tr>\n",
              "  </tbody>\n",
              "</table>\n",
              "</div>"
            ],
            "text/plain": [
              "          longitude  ...  ocean_proximity_NEAR OCEAN\n",
              "count  6.914000e+03  ...                 6914.000000\n",
              "mean  -2.641477e-15  ...                    0.126266\n",
              "std    1.000072e+00  ...                    0.332172\n",
              "min   -2.370682e+00  ...                    0.000000\n",
              "25%   -1.105858e+00  ...                    0.000000\n",
              "50%    5.239164e-01  ...                    0.000000\n",
              "75%    7.888797e-01  ...                    0.000000\n",
              "max    2.528639e+00  ...                    1.000000\n",
              "\n",
              "[8 rows x 13 columns]"
            ]
          },
          "metadata": {
            "tags": []
          },
          "execution_count": 325
        }
      ]
    },
    {
      "cell_type": "markdown",
      "metadata": {
        "id": "zKcEt22aGToG"
      },
      "source": [
        "Training and predicting a Ridge regression model."
      ]
    },
    {
      "cell_type": "code",
      "metadata": {
        "colab": {
          "base_uri": "https://localhost:8080/"
        },
        "id": "ug-BxPKqDRIy",
        "outputId": "0c29e567-e4a7-40a2-d1dc-d1fdff78a119"
      },
      "source": [
        "reg = Ridge(alpha=0.01)\n",
        "reg.fit(X_train, y_train)\n",
        "y_pred = reg.predict(X_test)\n",
        "mean_squared_error(y_test, y_pred, squared=False)"
      ],
      "execution_count": null,
      "outputs": [
        {
          "output_type": "execute_result",
          "data": {
            "text/plain": [
              "68481.51378901432"
            ]
          },
          "metadata": {
            "tags": []
          },
          "execution_count": 326
        }
      ]
    },
    {
      "cell_type": "code",
      "metadata": {
        "id": "0UdB5kHjX8T1"
      },
      "source": [
        "train_RMSE = []\n",
        "\n",
        "test_RMSE = []\n",
        "\n",
        "for i in range(200):\n",
        "  X_train_loop, X_test_loop, y_train_loop, y_test_loop = train_test_split(trainData.drop(trainData.columns[[0,9]], axis=1), trainData.median_house_value, test_size=0.33)\n",
        "\n",
        "  X_train_loop['total_bedrooms'] = X_train_loop['total_bedrooms'].fillna((X_train_loop['total_bedrooms'].median()))\n",
        "  X_test_loop['total_bedrooms'] = X_test_loop['total_bedrooms'].fillna((X_test_loop['total_bedrooms'].median()))\n",
        "  \n",
        "  X_train_loop = standardizeData(X_train_loop)\n",
        "  X_test_loop = standardizeData(X_test_loop)\n",
        "\n",
        "  reg = Ridge(alpha=0.01)\n",
        "  reg.fit(X_train_loop, y_train_loop)\n",
        "\n",
        "  y_pred_train = reg.predict(X_train_loop)\n",
        "  \n",
        "\n",
        "  train_RMSE.append(mean_squared_error(y_train_loop, y_pred_train, squared=False))\n",
        "\n",
        "  y_pred = reg.predict(X_test_loop)\n",
        "  \n",
        "  test_RMSE.append(mean_squared_error(y_test_loop, y_pred, squared=False))"
      ],
      "execution_count": null,
      "outputs": []
    },
    {
      "cell_type": "code",
      "metadata": {
        "id": "rfyYqL4ffAo6",
        "colab": {
          "base_uri": "https://localhost:8080/",
          "height": 657
        },
        "outputId": "860a11d0-51fc-4aba-ce8c-e8c33f577b82"
      },
      "source": [
        "f, axs = plt.subplots(2, 1, figsize=(15,9))\n",
        "axs[0].set_title(\"Train RMSE\")\n",
        "axs[1].set_title(\"Test RMSE\")\n",
        "sns.histplot(train_RMSE, ax=axs[0]);\n",
        "sns.histplot(test_RMSE, ax=axs[1]);\n",
        "f.tight_layout()"
      ],
      "execution_count": null,
      "outputs": [
        {
          "output_type": "display_data",
          "data": {
            "image/png": "[encoded data removed]",
            "text/plain": [
              "<Figure size 1080x648 with 2 Axes>"
            ]
          },
          "metadata": {
            "tags": [],
            "needs_background": "light"
          }
        }
      ]
    },
    {
      "cell_type": "code",
      "metadata": {
        "id": "Q3IgGEpyZh-b"
      },
      "source": [
        "testData = dummify(testData, dummy_list)"
      ],
      "execution_count": null,
      "outputs": []
    },
    {
      "cell_type": "code",
      "metadata": {
        "colab": {
          "base_uri": "https://localhost:8080/"
        },
        "id": "2z8wT73s7dxD",
        "outputId": "60bd323e-9569-4dde-fbef-0d0efd27419a"
      },
      "source": [
        "testData.info()"
      ],
      "execution_count": null,
      "outputs": [
        {
          "output_type": "stream",
          "text": [
            "<class 'pandas.core.frame.DataFrame'>\n",
            "RangeIndex: 10320 entries, 0 to 10319\n",
            "Data columns (total 14 columns):\n",
            " #   Column                      Non-Null Count  Dtype  \n",
            "---  ------                      --------------  -----  \n",
            " 0   id                          10320 non-null  int64  \n",
            " 1   longitude                   10320 non-null  float64\n",
            " 2   latitude                    10320 non-null  float64\n",
            " 3   housing_median_age          10320 non-null  float64\n",
            " 4   total_rooms                 10320 non-null  float64\n",
            " 5   total_bedrooms              10223 non-null  float64\n",
            " 6   population                  10320 non-null  float64\n",
            " 7   households                  10320 non-null  float64\n",
            " 8   median_income               10320 non-null  float64\n",
            " 9   ocean_proximity_<1H OCEAN   10320 non-null  uint8  \n",
            " 10  ocean_proximity_INLAND      10320 non-null  uint8  \n",
            " 11  ocean_proximity_ISLAND      10320 non-null  uint8  \n",
            " 12  ocean_proximity_NEAR BAY    10320 non-null  uint8  \n",
            " 13  ocean_proximity_NEAR OCEAN  10320 non-null  uint8  \n",
            "dtypes: float64(8), int64(1), uint8(5)\n",
            "memory usage: 776.1 KB\n"
          ],
          "name": "stdout"
        }
      ]
    },
    {
      "cell_type": "code",
      "metadata": {
        "id": "JJq64TmEZ8oc"
      },
      "source": [
        "X_real_test = testData.drop(testData.columns[[0]], axis=1)"
      ],
      "execution_count": null,
      "outputs": []
    },
    {
      "cell_type": "code",
      "metadata": {
        "id": "ZRPvPGdoZ_FJ",
        "colab": {
          "base_uri": "https://localhost:8080/",
          "height": 334
        },
        "outputId": "9d2d17e1-9110-4cdf-80f4-e50a9a85b391"
      },
      "source": [
        "X_real_test['total_bedrooms'] = X_real_test['total_bedrooms'].fillna((X_real_test['total_bedrooms'].median()))\n",
        "X_real_test = standardizeData(X_real_test)\n",
        "X_real_test.describe()"
      ],
      "execution_count": null,
      "outputs": [
        {
          "output_type": "execute_result",
          "data": {
            "text/html": [
              "<div>\n",
              "<style scoped>\n",
              "    .dataframe tbody tr th:only-of-type {\n",
              "        vertical-align: middle;\n",
              "    }\n",
              "\n",
              "    .dataframe tbody tr th {\n",
              "        vertical-align: top;\n",
              "    }\n",
              "\n",
              "    .dataframe thead th {\n",
              "        text-align: right;\n",
              "    }\n",
              "</style>\n",
              "<table border=\"1\" class=\"dataframe\">\n",
              "  <thead>\n",
              "    <tr style=\"text-align: right;\">\n",
              "      <th></th>\n",
              "      <th>longitude</th>\n",
              "      <th>latitude</th>\n",
              "      <th>housing_median_age</th>\n",
              "      <th>total_rooms</th>\n",
              "      <th>total_bedrooms</th>\n",
              "      <th>population</th>\n",
              "      <th>households</th>\n",
              "      <th>median_income</th>\n",
              "      <th>ocean_proximity_&lt;1H OCEAN</th>\n",
              "      <th>ocean_proximity_INLAND</th>\n",
              "      <th>ocean_proximity_ISLAND</th>\n",
              "      <th>ocean_proximity_NEAR BAY</th>\n",
              "      <th>ocean_proximity_NEAR OCEAN</th>\n",
              "    </tr>\n",
              "  </thead>\n",
              "  <tbody>\n",
              "    <tr>\n",
              "      <th>count</th>\n",
              "      <td>1.032000e+04</td>\n",
              "      <td>1.032000e+04</td>\n",
              "      <td>10320.000000</td>\n",
              "      <td>1.032000e+04</td>\n",
              "      <td>1.032000e+04</td>\n",
              "      <td>1.032000e+04</td>\n",
              "      <td>1.032000e+04</td>\n",
              "      <td>1.032000e+04</td>\n",
              "      <td>10320.000000</td>\n",
              "      <td>10320.000000</td>\n",
              "      <td>10320.000000</td>\n",
              "      <td>10320.000000</td>\n",
              "      <td>10320.000000</td>\n",
              "    </tr>\n",
              "    <tr>\n",
              "      <th>mean</th>\n",
              "      <td>2.645300e-15</td>\n",
              "      <td>4.980964e-15</td>\n",
              "      <td>28.734496</td>\n",
              "      <td>8.335279e-17</td>\n",
              "      <td>1.031690e-16</td>\n",
              "      <td>-9.500368e-17</td>\n",
              "      <td>2.972429e-17</td>\n",
              "      <td>2.121765e-16</td>\n",
              "      <td>0.442829</td>\n",
              "      <td>0.320058</td>\n",
              "      <td>0.000291</td>\n",
              "      <td>0.108043</td>\n",
              "      <td>0.128779</td>\n",
              "    </tr>\n",
              "    <tr>\n",
              "      <th>std</th>\n",
              "      <td>1.000048e+00</td>\n",
              "      <td>1.000048e+00</td>\n",
              "      <td>12.565620</td>\n",
              "      <td>1.000048e+00</td>\n",
              "      <td>1.000048e+00</td>\n",
              "      <td>1.000048e+00</td>\n",
              "      <td>1.000048e+00</td>\n",
              "      <td>1.000048e+00</td>\n",
              "      <td>0.496745</td>\n",
              "      <td>0.466521</td>\n",
              "      <td>0.017048</td>\n",
              "      <td>0.310449</td>\n",
              "      <td>0.334971</td>\n",
              "    </tr>\n",
              "    <tr>\n",
              "      <th>min</th>\n",
              "      <td>-2.375334e+00</td>\n",
              "      <td>-1.432945e+00</td>\n",
              "      <td>1.000000</td>\n",
              "      <td>-1.218987e+00</td>\n",
              "      <td>-1.289443e+00</td>\n",
              "      <td>-1.263754e+00</td>\n",
              "      <td>-1.314879e+00</td>\n",
              "      <td>-1.770671e+00</td>\n",
              "      <td>0.000000</td>\n",
              "      <td>0.000000</td>\n",
              "      <td>0.000000</td>\n",
              "      <td>0.000000</td>\n",
              "      <td>0.000000</td>\n",
              "    </tr>\n",
              "    <tr>\n",
              "      <th>25%</th>\n",
              "      <td>-1.111322e+00</td>\n",
              "      <td>-7.879220e-01</td>\n",
              "      <td>18.000000</td>\n",
              "      <td>-5.504817e-01</td>\n",
              "      <td>-5.678057e-01</td>\n",
              "      <td>-5.633220e-01</td>\n",
              "      <td>-5.712379e-01</td>\n",
              "      <td>-6.937128e-01</td>\n",
              "      <td>0.000000</td>\n",
              "      <td>0.000000</td>\n",
              "      <td>0.000000</td>\n",
              "      <td>0.000000</td>\n",
              "      <td>0.000000</td>\n",
              "    </tr>\n",
              "    <tr>\n",
              "      <th>50%</th>\n",
              "      <td>5.373890e-01</td>\n",
              "      <td>-6.430255e-01</td>\n",
              "      <td>29.000000</td>\n",
              "      <td>-2.341643e-01</td>\n",
              "      <td>-2.481543e-01</td>\n",
              "      <td>-2.247053e-01</td>\n",
              "      <td>-2.392553e-01</td>\n",
              "      <td>-1.799407e-01</td>\n",
              "      <td>0.000000</td>\n",
              "      <td>0.000000</td>\n",
              "      <td>0.000000</td>\n",
              "      <td>0.000000</td>\n",
              "      <td>0.000000</td>\n",
              "    </tr>\n",
              "    <tr>\n",
              "      <th>75%</th>\n",
              "      <td>7.722054e-01</td>\n",
              "      <td>9.788809e-01</td>\n",
              "      <td>37.000000</td>\n",
              "      <td>2.467172e-01</td>\n",
              "      <td>2.628036e-01</td>\n",
              "      <td>2.736278e-01</td>\n",
              "      <td>2.812935e-01</td>\n",
              "      <td>4.694756e-01</td>\n",
              "      <td>1.000000</td>\n",
              "      <td>1.000000</td>\n",
              "      <td>0.000000</td>\n",
              "      <td>0.000000</td>\n",
              "      <td>0.000000</td>\n",
              "    </tr>\n",
              "    <tr>\n",
              "      <th>max</th>\n",
              "      <td>2.615764e+00</td>\n",
              "      <td>2.960691e+00</td>\n",
              "      <td>52.000000</td>\n",
              "      <td>1.645332e+01</td>\n",
              "      <td>1.195672e+01</td>\n",
              "      <td>3.057157e+01</td>\n",
              "      <td>1.246373e+01</td>\n",
              "      <td>5.872107e+00</td>\n",
              "      <td>1.000000</td>\n",
              "      <td>1.000000</td>\n",
              "      <td>1.000000</td>\n",
              "      <td>1.000000</td>\n",
              "      <td>1.000000</td>\n",
              "    </tr>\n",
              "  </tbody>\n",
              "</table>\n",
              "</div>"
            ],
            "text/plain": [
              "          longitude  ...  ocean_proximity_NEAR OCEAN\n",
              "count  1.032000e+04  ...                10320.000000\n",
              "mean   2.645300e-15  ...                    0.128779\n",
              "std    1.000048e+00  ...                    0.334971\n",
              "min   -2.375334e+00  ...                    0.000000\n",
              "25%   -1.111322e+00  ...                    0.000000\n",
              "50%    5.373890e-01  ...                    0.000000\n",
              "75%    7.722054e-01  ...                    0.000000\n",
              "max    2.615764e+00  ...                    1.000000\n",
              "\n",
              "[8 rows x 13 columns]"
            ]
          },
          "metadata": {
            "tags": []
          },
          "execution_count": 328
        }
      ]
    },
    {
      "cell_type": "code",
      "metadata": {
        "id": "0diPSXaQa35O"
      },
      "source": [
        "y_pred = reg.predict(X_real_test)\n",
        "y_pred.tolist()"
      ],
      "execution_count": null,
      "outputs": []
    },
    {
      "cell_type": "code",
      "metadata": {
        "id": "4g3rS14ObKJL"
      },
      "source": [
        "ans = {'id':testData.id, 'median_house_value': y_pred.tolist()}\n",
        "df = pd.DataFrame(ans)\n",
        "df.to_csv('assignment4.csv', index=False)\n",
        "pd.set_option('display.max_columns', None)\n",
        "pd.set_option('display.max_rows', None)\n",
        "df"
      ],
      "execution_count": null,
      "outputs": []
    }
  ]
}